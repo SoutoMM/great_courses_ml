{
  "nbformat": 4,
  "nbformat_minor": 0,
  "metadata": {
    "colab": {
      "name": "L21.ipynb",
      "provenance": []
    },
    "language_info": {
      "codemirror_mode": {
        "name": "ipython",
        "version": 3
      },
      "file_extension": ".py",
      "mimetype": "text/x-python",
      "name": "python",
      "nbconvert_exporter": "python",
      "pygments_lexer": "ipython3",
      "version": "3.6.8"
    },
    "kernelspec": {
      "display_name": "Python 3",
      "language": "python",
      "name": "python3"
    }
  },
  "cells": [
    {
      "cell_type": "markdown",
      "metadata": {
        "id": "gN3jicMrRHiE"
      },
      "source": [
        "In this notebook, we will be doing learn a policy for navigating this a grid using reinforcement learning.  We’ll imagine the decision maker in this world is a robot in a field. The field is a grid of 50 locations arranged in  5 rows by 10 columns. There are also five different categories of locations. You can think of the categories as being types of terrain --- say, gravel, grass, shallow water, mud, and asphalt. The robot can tell what category each location is. We can allocate different rewards to each category and then see how the robot navigates in response.\n",
        "\n",
        "\n",
        "Below we import some of the libraries we'll be using and build our grid for navigation, `grid_map`. The grid will have `nrows = 5` rows and `ncols = 10` columns.  The cells of the grid can grid will be one of `ncats = 5` possible values, from 0 to 4."
      ]
    },
    {
      "cell_type": "code",
      "metadata": {
        "id": "VeKJN9JdGHmD",
        "colab": {
          "base_uri": "https://localhost:8080/"
        },
        "outputId": "9b8d5a75-f52e-4dfb-d836-9cc9c5b87d8a"
      },
      "source": [
        "# Updating keras because it seems like the matching tensorflow isn't there anymore\n",
        "# !pip install keras=='2.3.1'\n",
        "!pip install keras=='2.8.0'\n",
        "!pip install protobuf==3.20.0\n",
        "import numpy as np\n",
        "import keras.backend as K\n",
        "import tensorflow as tf\n",
        "\n",
        "# the empty grid\n",
        "nrows = 5\n",
        "ncols = 10\n",
        "\n",
        "# ncats is the number of state categories\n",
        "ncats = 5\n",
        "\n",
        "# map state categories to states\n",
        "# want m s.t. r %*% m = reward function\n",
        "# first, just a map of the indexes\n",
        "grid_map = np.array([ [0,0,0,0,0,2,0,0,1,0],\n",
        "                 [0,1,0,0,0,2,0,0,0,0],\n",
        "                 [0,0,0,0,0,2,1,3,0,0],\n",
        "                 [0,0,0,1,0,2,0,3,0,0],\n",
        "                 [0,0,0,0,0,2,0,3,0,4]])"
      ],
      "execution_count": 1,
      "outputs": [
        {
          "output_type": "stream",
          "name": "stdout",
          "text": [
            "Requirement already satisfied: keras==2.8.0 in /usr/local/lib/python3.10/dist-packages (2.8.0)\n",
            "Requirement already satisfied: protobuf==3.20.0 in /usr/local/lib/python3.10/dist-packages (3.20.0)\n"
          ]
        }
      ]
    },
    {
      "cell_type": "markdown",
      "metadata": {
        "id": "PaEkUMXJPtoG"
      },
      "source": [
        "Next we'll visualize the map, assigning colors in the order of the `colors` list with `seaborn`:\n",
        "0. white\n",
        "1. blue\n",
        "2. orange\n",
        "3. yellow\n",
        "4. green"
      ]
    },
    {
      "cell_type": "code",
      "metadata": {
        "id": "tVqK8K1zGJI-",
        "colab": {
          "base_uri": "https://localhost:8080/",
          "height": 424
        },
        "outputId": "fb934229-4864-48d0-8277-37fce238cecd"
      },
      "source": [
        "import seaborn as sns\n",
        "\n",
        "colors = [\"white\", \"blue\", \"orange\", \"yellow\", \"green\"]\n",
        "\n",
        "sns.heatmap(grid_map, cmap=sns.xkcd_palette(colors), yticklabels=False, xticklabels=False,\n",
        "            annot=False, cbar = False, annot_kws={\"size\": 30}, linewidths=1, linecolor=\"gray\")"
      ],
      "execution_count": 2,
      "outputs": [
        {
          "output_type": "execute_result",
          "data": {
            "text/plain": [
              "<Axes: >"
            ]
          },
          "metadata": {},
          "execution_count": 2
        },
        {
          "output_type": "display_data",
          "data": {
            "text/plain": [
              "<Figure size 640x480 with 1 Axes>"
            ],
            "image/png": "[encoded data removed]"
          },
          "metadata": {}
        }
      ]
    },
    {
      "cell_type": "markdown",
      "metadata": {
        "id": "JPCU6BzbQGfE"
      },
      "source": [
        "We can assign reward values, `r`, to each of the terrain categories.\n",
        "\n",
        "We will additionally binarize `grid_map`, adding an additional dimension representing the value in the cell to make `matmap`.  Values in `matmap` equal 1 if the value of row and column of that cell in `grid_map` equal is the value of the third dimension of the cell.  \n",
        "\n",
        "The `clip` function keeps the current location in the grid to be within the size of the grid.\n",
        "\n",
        "We define five actions, `acts`, in terms of how each one changes the robot’s row and column. The first decreases the row by 1 and leaves the column unchanged. That corresponds to moving UP in the grid. The other actions correspond to moving right, down, left, and staying in place.\n",
        "\n",
        "We will also build a transition matrix, `mattrans`, that describes the transition. This matrix represents the probability that the given action will cause a one-step transition between any given pair of locationd. We fill in this matrix by looping through all the actions. For each action, we:\n",
        "\n",
        "  - enumerate all possible starting rows and columns,  `i1` and `j1`\n",
        "  - define `i-next` and `j-next` to encode the location that results from adding an action’s row and column increments to the current row and column, then applying `clip` to keep the results in the range of the grid\n",
        "  - loop through all the possible next locations, row `i2` and column `j2`\n",
        "  - fill in the transition matrix with a 1 if the new `i2 == i-next` and `j2==j-next`\n",
        "\n"
      ]
    },
    {
      "cell_type": "code",
      "metadata": {
        "id": "T7kjfEnjGNvs"
      },
      "source": [
        "# r is the rewards for the different location categories\n",
        "r = np.array([0, -1, -1, -1, 10])\n",
        "\n",
        "matmap = np.zeros((nrows,ncols,ncats))\n",
        "for i in range(nrows):\n",
        "  for j in range(ncols):\n",
        "    for k in range(ncats):\n",
        "      matmap[i,j,k] = 0+(grid_map[i,j] == k)\n",
        "def clip(v,min,max):\n",
        "  if v < min: v = min\n",
        "  if v > max-1: v = max-1\n",
        "  return(v)\n",
        "\n",
        "acts = [(-1,0), (0,1), (1,0), (0,-1), (0,0)]\n",
        "nacts = len(acts)\n",
        "mattrans = np.zeros((nacts,nrows*ncols,nrows*ncols))\n",
        "for acti in range(nacts):\n",
        "  act = acts[acti]\n",
        "  for i1 in range(nrows):\n",
        "    for j1 in range(ncols):\n",
        "      inext = clip(i1 + act[0],0,nrows)\n",
        "      jnext = clip(j1 + act[1],0,ncols)\n",
        "      for i2 in range(nrows):\n",
        "        for j2 in range(ncols):\n",
        "          mattrans[acti,i1*ncols+j1,i2*ncols+j2] = 0+((i2 == inext) and (j2 == jnext))"
      ],
      "execution_count": 3,
      "outputs": []
    },
    {
      "cell_type": "markdown",
      "metadata": {
        "id": "VikRoa-DVd7v"
      },
      "source": [
        "We make a keras variable `rk` for the category rewards. Then, we take `matmap` and compute the dot product of `matmap` with `rk` to map each location to its reward value.\n",
        "\n",
        "We use these values as the starting point for our reinforcement-learning process, assigning it to `v`, the robot’s estimated best value for being in each location.\n",
        "\n",
        "We calculate how much to discount future reward compared to current reward with the parameter `gamma`.  When `gamma = 0.9`, a reward retains 90 percent of its value one time step later. When `gamma` is close to 1, the robot cares a lot about making choices that will eventually lead to high reward. When `gamma` is close to zero, the robot only cares about short term gain, even if that means sacrificing opportunities for additional rewards later.\n",
        "\n",
        "We also define `beta`, which indicates how \"carefully\" the robot will choose among closely valued actions. High values of `beta` cause the robot to reliably choose the highest valued actions and  values close to zero result in the robot being more “careless” and choosing randomly among the available options. `beta = 10` results in moderately careful reward maximizing choices."
      ]
    },
    {
      "cell_type": "code",
      "metadata": {
        "id": "ZA_bb1U4GSQ2"
      },
      "source": [
        "rk = K.placeholder(len(r))\n",
        "rfk = K.dot(K.constant(matmap),K.reshape(rk,(-1,1)))\n",
        "rffk = K.reshape(rfk,(-1,1))\n",
        "\n",
        "v = K.reshape(rfk,(-1,1))\n",
        "gamma = 0.90\n",
        "beta = 10.0"
      ],
      "execution_count": 4,
      "outputs": []
    },
    {
      "cell_type": "markdown",
      "metadata": {
        "id": "dRr_6Llsbf6h"
      },
      "source": [
        "The robot will look 50 steps into the future when it makes decisions. That’s a reasonable choice as the robot can make it across the entire grid world in 15 steps.\n",
        "\n",
        "For each step of looking into the future, the robot considers each of the five action calucates an estimate of the value of taking each action.  Each value of `q0`, `q1`, `q2`, `q3`, and `q4` corresponds to the estimated value of actions 0 to 4, by multipling the transition matrix for an action by the value estimate, `v`.\n",
        "\n",
        "`Q` brings all those values together into one array. The array has one row for each location and one column for each action.\n",
        "\n",
        "`pi` represents the robot’s assigned probability to each action in each location. The probability of the robot taking an action in a location is determined by how much reward `Q` predicts it will get from taking that action in that location. The higher the predicted reward, the more likely the robot is to take that action. `beta` controls how the strength of the relationship between reward and probability.\n",
        "\n",
        "The value `v` reflects how good it is to be in each location looking ahead one additional step. The planner multiplies the action matrix times the values, discounted them by gamma, and then added in the reward for being in the current state."
      ]
    },
    {
      "cell_type": "code",
      "metadata": {
        "id": "Q7AfS5haGSUI"
      },
      "source": [
        "for _ in range(50):\n",
        "  q0 = K.dot(K.constant(mattrans[0]),v)\n",
        "  q1 = K.dot(K.constant(mattrans[1]),v)\n",
        "  q2 = K.dot(K.constant(mattrans[2]),v)\n",
        "  q3 = K.dot(K.constant(mattrans[3]),v)\n",
        "  q4 = K.dot(K.constant(mattrans[4]),v)\n",
        "  Q = K.concatenate([q0,q1,q2,q3,q4])\n",
        "  pi = K.softmax(beta*Q)\n",
        "  v = rffk + gamma * K.reshape(K.sum(Q * pi,axis=1),(-1,1))"
      ],
      "execution_count": 5,
      "outputs": []
    },
    {
      "cell_type": "markdown",
      "metadata": {
        "id": "rIMtOowGbgtG"
      },
      "source": [
        "We define the `planner` function in terms of the reward `rk`, our policy `pi`, and our valeus for each action `Q`, we then run the planner to get our final values of the policy `piout` and values `Qout`."
      ]
    },
    {
      "cell_type": "code",
      "metadata": {
        "id": "XtlvkpJ7GSWz"
      },
      "source": [
        "planner = K.function([rk], [pi, Q])\n",
        "\n",
        "r = np.array([0, -1, -1, -1, 10])\n",
        "piout, Qout = planner([r])"
      ],
      "execution_count": 6,
      "outputs": []
    },
    {
      "cell_type": "markdown",
      "metadata": {
        "id": "EEvV5piKbhcR"
      },
      "source": [
        "We also define the function `plotpolicy` which uses `findpol` to visualize the policy's learned trajectories given the grid setup."
      ]
    },
    {
      "cell_type": "code",
      "metadata": {
        "id": "BZv26xWxaKpD"
      },
      "source": [
        "def findpol(grid,pi,r,c):\n",
        "  if grid[r][c] != 6: return\n",
        "  maxprob = max(pi[r*ncols+c,:])\n",
        "  a = 6\n",
        "  for ana in range(5):\n",
        "    if pi[r*ncols+c, ana] == maxprob: a = ana\n",
        "  grid[r][c] = a\n",
        "  r += acts[a][0]\n",
        "  c += acts[a][1]\n",
        "  findpol(grid,pi,r,c)\n",
        "\n",
        "def plotpolicy(pi):\n",
        "  grid = []\n",
        "  for r in range(nrows):\n",
        "    line = []\n",
        "    for c in range(ncols):\n",
        "      line += [6]\n",
        "    grid += [line]\n",
        "  findpol(grid,pi,0,0)\n",
        "  for r in range(nrows):\n",
        "    line = \"\"\n",
        "    for c in range(ncols):\n",
        "      line += '^>v<x? '[grid[r][c]]\n",
        "    print(line)"
      ],
      "execution_count": 7,
      "outputs": []
    },
    {
      "cell_type": "markdown",
      "metadata": {
        "id": "N4Hqi1bNr1Mb"
      },
      "source": [
        "Let's assign different values to the reward `r` and plot the trajectory.  The arrow symbols, `<>^v` indcate the direction of the movement and `x` means motion has stopped.  In this array, the highest rewards are associated with green."
      ]
    },
    {
      "cell_type": "code",
      "metadata": {
        "id": "ZbUSG8Ibi-WI",
        "colab": {
          "base_uri": "https://localhost:8080/"
        },
        "outputId": "ab7c796e-dcda-4429-c744-2a71421b5852"
      },
      "source": [
        "r = np.array([0, -1, -1, -1, 10])\n",
        "piout, Qout = planner([r])\n",
        "plotpolicy(piout)"
      ],
      "execution_count": 8,
      "outputs": [
        {
          "output_type": "stream",
          "name": "stdout",
          "text": [
            ">>>v      \n",
            "   >>>>>v \n",
            "        v \n",
            "        v \n",
            "        >x\n"
          ]
        }
      ]
    },
    {
      "cell_type": "markdown",
      "metadata": {
        "id": "-9r5Vx5xr0oS"
      },
      "source": [
        "In this example, blue, orange, and yellow rewards are very negative."
      ]
    },
    {
      "cell_type": "code",
      "metadata": {
        "id": "xOzE3FWrjPbc",
        "colab": {
          "base_uri": "https://localhost:8080/"
        },
        "outputId": "7dd1d825-c8b1-471b-90e9-cde3aaf87d16"
      },
      "source": [
        "r = np.array([0, -10, -10, -10, 1])\n",
        "piout, Qout = planner([r])\n",
        "plotpolicy(piout)"
      ],
      "execution_count": 9,
      "outputs": [
        {
          "output_type": "stream",
          "name": "stdout",
          "text": [
            "x         \n",
            "          \n",
            "          \n",
            "          \n",
            "          \n"
          ]
        }
      ]
    },
    {
      "cell_type": "markdown",
      "metadata": {
        "id": "TiFmSpCnrzrE"
      },
      "source": [
        "Here, we put a negative reward"
      ]
    },
    {
      "cell_type": "code",
      "metadata": {
        "id": "p_RqgNGVj0TM",
        "colab": {
          "base_uri": "https://localhost:8080/"
        },
        "outputId": "cab6a3a4-fdbd-4b2f-fcad-91277db88e7b"
      },
      "source": [
        "r = np.array([-1, 0, 0, 0, 1])\n",
        "piout, Qout = planner([r])\n",
        "plotpolicy(piout)"
      ],
      "execution_count": 10,
      "outputs": [
        {
          "output_type": "stream",
          "name": "stdout",
          "text": [
            "v         \n",
            ">>>>>v    \n",
            "     >>v  \n",
            "       v  \n",
            "       >>x\n"
          ]
        }
      ]
    },
    {
      "cell_type": "markdown",
      "metadata": {
        "id": "QbTmpF3oryx9"
      },
      "source": [
        "Here, we learn a `loss` function based on a trajectory of actions `trajacts`.\n",
        "\n",
        "We convert this sequence of actions into a sequence of locations, `trajcoords`, using `reduce`."
      ]
    },
    {
      "cell_type": "code",
      "metadata": {
        "id": "9seA4m0ZkDAn"
      },
      "source": [
        "from functools import reduce\n",
        "\n",
        "#  0      1     2     3     4\n",
        "# up, right, down, left, stay\n",
        "\n",
        "trajacts = [1,1,2,2,2,2,1,1,1,1,1,1,1,4,4,4,4,4,4,4]\n",
        "\n",
        "trajcoords = reduce((lambda seq, a: seq+[[seq[len(seq)-1][0] + acts[a][0], seq[len(seq)-1][1] + acts[a][1]]]), trajacts, [[0,0]])"
      ],
      "execution_count": 11,
      "outputs": []
    },
    {
      "cell_type": "markdown",
      "metadata": {
        "id": "4fYHLwSdrxv0"
      },
      "source": [
        "To compute the loss, we run through this sequence of actions and look at the policy `pi`. We find the probability assigned to the the action, sequence pair at timestep `i` and take the negative log of that value and add it to the `loss`."
      ]
    },
    {
      "cell_type": "code",
      "metadata": {
        "id": "JvN6tKUzkDD3"
      },
      "source": [
        "loss = 0\n",
        "for i in range(len(trajacts)):\n",
        "  acti = trajacts[i]\n",
        "  state = trajcoords[i]\n",
        "  loss += -K.log(pi[state[0]*ncols+state[1]][acti])"
      ],
      "execution_count": 12,
      "outputs": []
    },
    {
      "cell_type": "markdown",
      "metadata": {
        "id": "aEZ7Ue6frw60"
      },
      "source": [
        "We use gradient descent to search for a reward function that produces low loss. We pick a `learning_rate` and randomly initialize our values for the reward `r`.\n",
        "\n",
        "We compute the gradient of the loss with respect to the rewards, which we store in the variable, `grads`. Next, we create a keras function that takes the rewards, `rk` as input and produces the `loss` and the `grads` as output, `iterate`.\n",
        "\n",
        "Over 5000 steps, we will update `r` based in the `learning_rate` and `grads_value` of the gradient.  We also will print our `loss_value` every 100 steps."
      ]
    },
    {
      "cell_type": "code",
      "source": [
        "import numpy as np\n",
        "import keras.backend as K\n",
        "import tensorflow as tf\n",
        "from functools import reduce\n",
        "\n",
        "# ... (rest of the code up to the loss calculation) ...\n",
        "\n",
        "# Convert rk to a tf.Variable for gradient tracking\n",
        "rk_variable = tf.Variable(np.random.rand(5) * 2 - 1, dtype=tf.float32)\n",
        "\n",
        "# Define a function to calculate the loss using rk_variable and ensure eager execution\n",
        "@tf.function  # Use tf.function for eager execution\n",
        "def compute_loss(rk_variable):\n",
        "    # Recreate the planner function within the compute_loss function\n",
        "    # to ensure it depends on the current value of rk_variable\n",
        "    def planner_inner(rk):\n",
        "        rfk = K.dot(K.constant(matmap), K.reshape(rk, (-1, 1)))\n",
        "        rffk = K.reshape(rfk, (-1, 1))\n",
        "        v = K.reshape(rfk, (-1, 1))\n",
        "        for _ in range(50):\n",
        "            q0 = K.dot(K.constant(mattrans[0]), v)\n",
        "            q1 = K.dot(K.constant(mattrans[1]), v)\n",
        "            q2 = K.dot(K.constant(mattrans[2]), v)\n",
        "            q3 = K.dot(K.constant(mattrans[3]), v)\n",
        "            q4 = K.dot(K.constant(mattrans[4]), v)\n",
        "            Q = K.concatenate([q0, q1, q2, q3, q4])\n",
        "            pi = K.softmax(beta * Q)\n",
        "            v = rffk + gamma * K.reshape(K.sum(Q * pi, axis=1), (-1, 1))\n",
        "        return pi, Q\n",
        "\n",
        "    pi, _ = planner_inner(rk_variable)  # Get the updated policy\n",
        "\n",
        "    loss = 0\n",
        "    for i in range(len(trajacts)):\n",
        "        acti = trajacts[i]\n",
        "        state = trajcoords[i]\n",
        "        loss += -K.log(pi[state[0] * ncols + state[1]][acti])\n",
        "    return loss\n",
        "\n",
        "# Create the training loop\n",
        "for iter in range(5000):\n",
        "    with tf.GradientTape() as tape:\n",
        "        loss_value = compute_loss(rk_variable)  # Pass rk_variable to compute_loss\n",
        "\n",
        "    grads_value = tape.gradient(loss_value, rk_variable)\n",
        "    rk_variable.assign_sub(learning_rate * grads_value)\n",
        "\n",
        "    if iter % 100 == 0:\n",
        "        print(loss_value.numpy(), rk_variable.numpy())  # Convert to NumPy for printing\n",
        ""
      ],
      "metadata": {
        "id": "jbGm2T9feBkP",
        "outputId": "2305a2b1-c747-44b8-fe4f-56881474c4cc",
        "colab": {
          "base_uri": "https://localhost:8080/"
        }
      },
      "execution_count": 21,
      "outputs": [
        {
          "output_type": "stream",
          "name": "stdout",
          "text": [
            "135.19737 [-0.06527907  0.3716441  -0.32882908  0.5833565  -0.14897466]\n",
            "10.995611 [ 0.03182862 -0.23275428 -0.27602747  0.06740806  0.821455  ]\n",
            "10.660555 [ 0.01076499 -0.33406216 -0.25182334  0.02692754  0.9601113 ]\n",
            "10.52509 [-0.00835093 -0.40014502 -0.22143278 -0.00129965  1.0431468 ]\n",
            "10.448284 [-0.02492686 -0.45042738 -0.19192706 -0.02279392  1.1019852 ]\n",
            "10.405497 [-0.03498919 -0.48898622 -0.17455639 -0.03747998  1.1479317 ]\n",
            "10.380362 [-0.04005614 -0.5188834  -0.16979034 -0.04573269  1.1863862 ]\n",
            "10.362869 [-0.04337466 -0.5430553  -0.17099309 -0.05051239  1.219861  ]\n",
            "10.349546 [-0.0461941  -0.5633997  -0.17412153 -0.05396971  1.2496126 ]\n",
            "10.338936 [-0.04882948 -0.5810266  -0.17770042 -0.05694559  1.2764184 ]\n",
            "10.330263 [-0.0513373  -0.59661764 -0.18125546 -0.05969424  1.3008367 ]\n",
            "10.323028 [-0.05374871 -0.6106204  -0.18465488 -0.0623014   1.3232231 ]\n",
            "10.316888 [-0.05605632 -0.62334555 -0.18786016 -0.06478126  1.3439426 ]\n",
            "10.311608 [-0.05826871 -0.63501763 -0.19088016 -0.06714916  1.3631977 ]\n",
            "10.307022 [-0.06038062 -0.6458047  -0.19372006 -0.0694031   1.3812114 ]\n",
            "10.303007 [-0.06240238 -0.65583706 -0.19639644 -0.07155338  1.3981336 ]\n",
            "10.299428 [-0.06434856 -0.6652181  -0.1989302  -0.07361312  1.4140797 ]\n",
            "10.29624 [-0.06621963 -0.6740295  -0.20133762 -0.0755922   1.4291475 ]\n",
            "10.293367 [-0.06801648 -0.6823388  -0.20362262 -0.07748409  1.4434415 ]\n",
            "10.2908 [-0.06975722 -0.69020265 -0.20580786 -0.07931325  1.4569876 ]\n",
            "10.288465 [-0.07141918 -0.6976676  -0.20788607 -0.08106081  1.4699495 ]\n",
            "10.286324 [-0.07302132 -0.704773   -0.20986992 -0.08274032  1.4823512 ]\n",
            "10.284384 [-0.07457672 -0.71155274 -0.21177268 -0.08436244  1.4942062 ]\n",
            "10.282591 [-0.07608712 -0.7180365  -0.21360545 -0.08593719  1.5055496 ]\n",
            "10.280916 [-0.07754003 -0.72424924 -0.2153635  -0.08745319  1.5164754 ]\n",
            "10.279382 [-0.07894487 -0.7302134  -0.21705407 -0.08891729  1.5269909 ]\n",
            "10.277962 [-0.08030642 -0.7359484  -0.21868145 -0.09033266  1.5371419 ]\n",
            "10.276643 [-0.08162405 -0.74147147 -0.2202485  -0.09170114  1.5469468 ]\n",
            "10.275405 [-0.08290793 -0.7467979  -0.22176601 -0.09303197  1.556409  ]\n",
            "10.274262 [-0.08415747 -0.7519413  -0.22323444 -0.09432463  1.5655665 ]\n",
            "10.273159 [-0.08536715 -0.7569144  -0.2246523  -0.0955766   1.5744548 ]\n",
            "10.272132 [-0.08654424 -0.76172787 -0.226025   -0.09679395  1.5830574 ]\n",
            "10.2711735 [-0.08770943 -0.76639223 -0.22736853 -0.09798934  1.5913831 ]\n",
            "10.270277 [-0.08883385 -0.77091676 -0.22867247 -0.09915438  1.5994664 ]\n",
            "10.26943 [-0.08993559 -0.7753097  -0.22993957 -0.10028889  1.6073236 ]\n",
            "10.268596 [-0.09100833 -0.7795783  -0.23116979 -0.1013919   1.6149884 ]\n",
            "10.267863 [-0.09205157 -0.78372973 -0.2323667  -0.10246846  1.622461  ]\n",
            "10.267114 [-0.09306495 -0.78777    -0.23352592 -0.10351199  1.6297398 ]\n",
            "10.266432 [-0.0940695  -0.791705   -0.23466265 -0.10453998  1.6368096 ]\n",
            "10.265754 [-0.09505093 -0.79554045 -0.23577257 -0.105545    1.6437232 ]\n",
            "10.265152 [-0.09600847 -0.7992813  -0.2368571  -0.10653339  1.6504419 ]\n",
            "10.264552 [-0.0969432  -0.802932   -0.23791191 -0.10748985  1.6570375 ]\n",
            "10.263969 [-0.09786424 -0.80649704 -0.23894554 -0.10843063  1.6634794 ]\n",
            "10.263442 [-0.09876373 -0.80998015 -0.23995395 -0.10935515  1.6697559 ]\n",
            "10.2629 [-0.09964298 -0.8133852  -0.24094293 -0.11025839  1.6759125 ]\n",
            "10.26241 [-0.10049487 -0.8167153  -0.24190444 -0.1111321   1.6819938 ]\n",
            "10.261941 [-0.10134126 -0.8199739  -0.24284399 -0.11199497  1.6879191 ]\n",
            "10.261475 [-0.10217416 -0.8231639  -0.24376835 -0.11284736  1.6937009 ]\n",
            "10.261031 [-0.10299177 -0.8262884  -0.24467471 -0.11368115  1.699384  ]\n",
            "10.260612 [-0.10378793 -0.82935005 -0.2455622  -0.11449839  1.7049648 ]\n"
          ]
        }
      ]
    },
    {
      "cell_type": "code",
      "source": [],
      "metadata": {
        "id": "Kn4tWSVXdyCZ"
      },
      "execution_count": null,
      "outputs": []
    }
  ]
}