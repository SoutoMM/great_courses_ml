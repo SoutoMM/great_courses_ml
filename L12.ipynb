{
  "nbformat": 4,
  "nbformat_minor": 0,
  "metadata": {
    "colab": {
      "name": "L12.ipynb",
      "provenance": []
    },
    "language_info": {
      "codemirror_mode": {
        "name": "ipython",
        "version": 3
      },
      "file_extension": ".py",
      "mimetype": "text/x-python",
      "name": "python",
      "nbconvert_exporter": "python",
      "pygments_lexer": "ipython3",
      "version": "3.6.8"
    },
    "kernelspec": {
      "display_name": "Python 3",
      "language": "python",
      "name": "python3"
    }
  },
  "cells": [
    {
      "cell_type": "markdown",
      "metadata": {
        "id": "bFSFDwOuJHBW"
      },
      "source": [
        "In this notebook, we will build a recomendation system for academic papers.\n",
        "\n",
        "Below, we download the data we'll be using from GitHub. `vocab2.txt` contains the words in the tiles of the academic papers, and `cb.txt` contains the titles of the papers."
      ]
    },
    {
      "cell_type": "code",
      "metadata": {
        "id": "2tJcRhHcQYUy",
        "outputId": "e18bad70-fb59-4d6f-ee04-3d27d78badda",
        "colab": {
          "base_uri": "https://localhost:8080/"
        }
      },
      "source": [
        "!wget https://github.com/mlittmancs/great_courses_ml/raw/master/data/vocab2.txt\n",
        "!wget https://github.com/mlittmancs/great_courses_ml/raw/master/data/cb.txt"
      ],
      "execution_count": 54,
      "outputs": [
        {
          "output_type": "stream",
          "name": "stdout",
          "text": [
            "--2023-09-18 00:22:37--  https://github.com/mlittmancs/great_courses_ml/raw/master/data/vocab2.txt\n",
            "Resolving github.com (github.com)... 20.27.177.113\n",
            "Connecting to github.com (github.com)|20.27.177.113|:443... connected.\n",
            "HTTP request sent, awaiting response... 302 Found\n",
            "Location: https://raw.githubusercontent.com/mlittmancs/great_courses_ml/master/data/vocab2.txt [following]\n",
            "--2023-09-18 00:22:37--  https://raw.githubusercontent.com/mlittmancs/great_courses_ml/master/data/vocab2.txt\n",
            "Resolving raw.githubusercontent.com (raw.githubusercontent.com)... 185.199.108.133, 185.199.109.133, 185.199.110.133, ...\n",
            "Connecting to raw.githubusercontent.com (raw.githubusercontent.com)|185.199.108.133|:443... connected.\n",
            "HTTP request sent, awaiting response... 200 OK\n",
            "Length: 134845 (132K) [text/plain]\n",
            "Saving to: ‘vocab2.txt.3’\n",
            "\n",
            "vocab2.txt.3        100%[===================>] 131.68K  --.-KB/s    in 0.07s   \n",
            "\n",
            "2023-09-18 00:22:37 (1.84 MB/s) - ‘vocab2.txt.3’ saved [134845/134845]\n",
            "\n",
            "--2023-09-18 00:22:38--  https://github.com/mlittmancs/great_courses_ml/raw/master/data/cb.txt\n",
            "Resolving github.com (github.com)... 20.27.177.113\n",
            "Connecting to github.com (github.com)|20.27.177.113|:443... connected.\n",
            "HTTP request sent, awaiting response... 302 Found\n",
            "Location: https://raw.githubusercontent.com/mlittmancs/great_courses_ml/master/data/cb.txt [following]\n",
            "--2023-09-18 00:22:38--  https://raw.githubusercontent.com/mlittmancs/great_courses_ml/master/data/cb.txt\n",
            "Resolving raw.githubusercontent.com (raw.githubusercontent.com)... 185.199.110.133, 185.199.108.133, 185.199.111.133, ...\n",
            "Connecting to raw.githubusercontent.com (raw.githubusercontent.com)|185.199.110.133|:443... connected.\n",
            "HTTP request sent, awaiting response... 200 OK\n",
            "Length: 820122 (801K) [text/plain]\n",
            "Saving to: ‘cb.txt.3’\n",
            "\n",
            "cb.txt.3            100%[===================>] 800.90K  4.75MB/s    in 0.2s    \n",
            "\n",
            "2023-09-18 00:22:39 (4.75 MB/s) - ‘cb.txt.3’ saved [820122/820122]\n",
            "\n"
          ]
        }
      ]
    },
    {
      "cell_type": "markdown",
      "metadata": {
        "id": "RwCUD_TANklv"
      },
      "source": [
        "Here we write a few functions that will help us in processing the data:\n",
        "\n",
        "- `readvocab` creates a `vocab_dict` with a count of the number of times a word occurs in our paper titles\n",
        "- `tokenize` turns each set of words in a title, `string`, into a count of the number of times each word in the title occurs\n",
        "- `getdat`, which takes the titles and returns a list of titles with their word counts, `dat`, and a list of labels indicating if the user found the title interesting, `labs`\n",
        "\n",
        "We will use our function to process our data to get our vectorized titles, `dat`, and their labels `labs`"
      ]
    },
    {
      "cell_type": "code",
      "metadata": {
        "id": "V-Fu_cwlZGIU"
      },
      "source": [
        "# read in the vocabulary file\n",
        "def readvocab():\n",
        "   # keep track of the number of words\n",
        "    lexiconsize = 0\n",
        "   # initialize an empty dictionary\n",
        "    vocab_dict = {}\n",
        "   # create a catch-all feature (vector component) for all unknown words\n",
        "    vocab_dict[\"@unk\"] = lexiconsize\n",
        "    lexiconsize += 1\n",
        "   # read in the vocabulary file\n",
        "    with open(\"vocab2.txt\", \"r\") as f:\n",
        "        data = f.readlines()\n",
        "   # Process the file a line at a time.\n",
        "    for line in data:\n",
        "        # The count is the first 3 characters\n",
        "        count = int(line[0:4])\n",
        "        # The word is the rest of the string\n",
        "        token = line[5:-1]\n",
        "       # Create a feature if it’s appeared at least twice\n",
        "        if count > 1:\n",
        "            vocab_dict[token] = lexiconsize\n",
        "            lexiconsize += 1\n",
        "    # squirrel away the total size for later reference\n",
        "    vocab_dict[\"@size\"] = lexiconsize\n",
        "    return(vocab_dict)\n",
        "\n",
        "vocab_dict = readvocab()\n",
        "\n",
        "# Turn string str into a vector.\n",
        "def tokenize(string, vocab_dict):\n",
        "  # initially the vector is all zeros\n",
        "  vec = [0 for i in range(vocab_dict[\"@size\"])]\n",
        "  # for each word\n",
        "  for t in string.split(\" \"):\n",
        "   # if the word has a feature, add one to the corresponding feature\n",
        "    if t in vocab_dict: vec[vocab_dict[t]] += 1\n",
        "   # otherwise, count it as an unk\n",
        "    else: vec[vocab_dict[\"@unk\"]] += 1\n",
        "  return(vec)\n",
        "\n",
        "# read in labeled examples and turn the strings into vectors\n",
        "def getdat(vocab_dict):\n",
        "    with open(\"cb.txt\", \"r\") as f:\n",
        "        data = f.readlines()\n",
        "    dat = []\n",
        "    labs = []\n",
        "    for line in data:\n",
        "        labs = labs + [int(line[0])]\n",
        "        dat = dat + [tokenize(line[2:], vocab_dict)]\n",
        "    return(dat, labs)\n",
        "\n",
        "(dat, labs) = getdat(vocab_dict)"
      ],
      "execution_count": 55,
      "outputs": []
    },
    {
      "cell_type": "markdown",
      "metadata": {
        "id": "53UHLTOiSdXl"
      },
      "source": [
        "We define two additional helper functions to make our recommendations:\n",
        "\n",
        "- `playgame` makes `rounds` recommendations using `chooser` and is given a `score`.  For `alpha` days the selections are random.\n",
        "\n",
        "- `argmax` returns the index from `indices` associated wiht the item in the `vals` list with the highest value"
      ]
    },
    {
      "cell_type": "code",
      "metadata": {
        "id": "H2s0aTNrZGL0"
      },
      "source": [
        "import random\n",
        "from sklearn.naive_bayes import MultinomialNB\n",
        "\n",
        "def playgame(chooser, rounds, alpha):\n",
        "  curitem = 0\n",
        "  score = 0\n",
        "  trainset = []\n",
        "  trainlabs = []\n",
        "  b = 5\n",
        "  clf = MultinomialNB()\n",
        "\n",
        "  while curitem < rounds:\n",
        "    chosenitem = chooser(curitem, b, trainset, trainlabs, alpha, clf)\n",
        "    score = score + labs[chosenitem]\n",
        "    trainset = trainset + [dat[chosenitem]]\n",
        "    trainlabs = trainlabs + [labs[chosenitem]]\n",
        "    curitem += b\n",
        "  return(score)\n",
        "\n",
        "def argmax(indices, vals):\n",
        " best = max(vals)\n",
        " for i in range(len(indices)):\n",
        "   if vals[i] == best:\n",
        "     return(indices[i])"
      ],
      "execution_count": 56,
      "outputs": []
    },
    {
      "cell_type": "markdown",
      "metadata": {
        "id": "CrscWdZXWNzd"
      },
      "source": [
        "This function is our choosing function, `probachooser` and chooses between `b` options. `currentitem` is the initial item to consider.  `trainset` represents the results of previous selections.\n",
        "\n",
        "\n",
        "If we have not yet made `alpha` selections, the selection is random.\n",
        "\n",
        "If we have made `alpha` selections in the past, we fit our `clf` Naive Bayes model using the traing data of academic papers by title, `trainset`, and training labels for if the academic papers were interesting, `trainlabs`.  After we fit our `clf` model, we use it to select the item most likely to be labeled as interesting."
      ]
    },
    {
      "cell_type": "code",
      "metadata": {
        "id": "dlCqy7KhZGP9"
      },
      "source": [
        "def probachooser(curitem, b, trainset, trainlabs, alpha, clf):\n",
        "  if len(trainset) == alpha:\n",
        "    clf = clf.fit(trainset, trainlabs)\n",
        "#comment?\n",
        "  if len(trainset) < alpha:\n",
        "    chosenitem = random.randint(curitem,curitem+b-1)\n",
        "  else:\n",
        "    yhat = clf.predict_proba(dat[curitem:(curitem+b)])\n",
        "    chosenitem = argmax(range(curitem,curitem+b), [p for (c,p) in yhat])\n",
        "  return(chosenitem)"
      ],
      "execution_count": 57,
      "outputs": []
    },
    {
      "cell_type": "markdown",
      "metadata": {
        "id": "dt6mp5vYdS6I"
      },
      "source": [
        "We will see how the number of rounds with random choices, `alpha` affects the final score.  We will run our `playgame` function with `alpha` values ranging from 10 to 200.  We will plot our scores below."
      ]
    },
    {
      "cell_type": "code",
      "metadata": {
        "id": "kjaJpElLZGSz",
        "outputId": "f18fd0b4-18bb-4d11-8151-58814ce6e2cc",
        "colab": {
          "base_uri": "https://localhost:8080/",
          "height": 430
        }
      },
      "source": [
        "alphas = range(10,200,5)\n",
        "ress = []\n",
        "for alpha in alphas:\n",
        "  res = playgame(probachooser, 1000, alpha)\n",
        "  ress += [res]\n",
        "\n",
        "import matplotlib.pyplot as plt\n",
        "\n",
        "plt.scatter(alphas, ress)\n",
        "plt.plot(alphas, ress)\n",
        "plt.show()\n"
      ],
      "execution_count": 58,
      "outputs": [
        {
          "output_type": "display_data",
          "data": {
            "text/plain": [
              "<Figure size 640x480 with 1 Axes>"
            ],
            "image/png": "[encoded data removed]"
          },
          "metadata": {}
        }
      ]
    },
    {
      "cell_type": "markdown",
      "metadata": {
        "id": "Zk6cY0iQdkqS"
      },
      "source": [
        "We rewrite our `probachooser` function so that `alpha` is now used as a smoothing parameter for our Naive Bayes model, ranging between 0 and 1.  We train our Naive Bayes classifier on every data element using our smoothing parameter in our Naive Bayes model, `alpha`. The `chosenitem` returned is just the one our classifier thinks is most likely to be interesting.\n",
        "\n",
        "We also will rewrite our `playgame` function to accomodate the changes we made in `probachooser`.\n",
        "\n",
        "Given these changes, we will plot how our score changes as we vary `alpha` from 0.00005 to 1. Note: Can take 15-20 minutes to run!"
      ]
    },
    {
      "cell_type": "code",
      "metadata": {
        "id": "tFWoqjQcZGV0",
        "outputId": "839b3373-c8f5-4965-e2e2-222597f34214",
        "colab": {
          "base_uri": "https://localhost:8080/"
        }
      },
      "source": [
        "def probachooser(curitem, b, trainset, trainlabs, alpha):\n",
        "  if len(trainset) == 0:\n",
        "    chosenitem = random.randint(curitem,curitem+b-1)\n",
        "  else:\n",
        "    clf = MultinomialNB(alpha=alpha)\n",
        "    clf = clf.fit(trainset, trainlabs)\n",
        "    yhat = clf.predict_proba(dat[curitem:(curitem+b)])\n",
        "    if len(yhat[0]) > 1:\n",
        "      chosenitem = argmax(range(curitem,curitem+b), [p for (c,p) in yhat])\n",
        "    else:\n",
        "      chosenitem = argmax(range(curitem,curitem+b), [p for p in yhat])\n",
        "  return(chosenitem)\n",
        "\n",
        "def playgame(chooser, rounds, alpha):\n",
        "  curitem = 0\n",
        "  score = 0\n",
        "  trainset = []\n",
        "  trainlabs = []\n",
        "  b = 5\n",
        "\n",
        "  while curitem < rounds:\n",
        "    chosenitem = chooser(curitem, b, trainset, trainlabs, alpha)\n",
        "    score = score + labs[chosenitem]\n",
        "    trainset = trainset + [dat[chosenitem]]\n",
        "    trainlabs = trainlabs + [labs[chosenitem]]\n",
        "    curitem += b\n",
        "  return(score)\n",
        "\n",
        "rep = 10\n",
        "alphas = [0.00005, 0.0001, 0.0002, 0.0005, 0.001, 0.002, 0.005, 0.01, 0.02, 0.05, 0.1, 0.2, 0.5, 1.0]\n",
        "ress = []\n",
        "mins = []\n",
        "maxs = []\n",
        "for alpha in alphas:\n",
        "  print(\"Processing \" + str(alpha))\n",
        "  total = 0\n",
        "  res = []\n",
        "  for i in range(rep):\n",
        "    res += [playgame(probachooser, 1000, alpha)]\n",
        "  ress += [sum(res)/rep]\n",
        "  mins += [min(res)]\n",
        "  maxs += [max(res)]"
      ],
      "execution_count": 59,
      "outputs": [
        {
          "output_type": "stream",
          "name": "stdout",
          "text": [
            "Processing 5e-05\n",
            "Processing 0.0001\n",
            "Processing 0.0002\n",
            "Processing 0.0005\n",
            "Processing 0.001\n",
            "Processing 0.002\n",
            "Processing 0.005\n",
            "Processing 0.01\n",
            "Processing 0.02\n",
            "Processing 0.05\n",
            "Processing 0.1\n",
            "Processing 0.2\n",
            "Processing 0.5\n",
            "Processing 1.0\n"
          ]
        }
      ]
    },
    {
      "cell_type": "markdown",
      "metadata": {
        "id": "bXWNnxLbm10s"
      },
      "source": [
        "We plot the results of varying our smoothing parameter `alpha` below."
      ]
    },
    {
      "cell_type": "code",
      "metadata": {
        "id": "TB0MKJK6ZGZO",
        "outputId": "f7b76d0d-a559-4054-e87e-c31bf64ab708",
        "colab": {
          "base_uri": "https://localhost:8080/",
          "height": 430
        }
      },
      "source": [
        "import matplotlib.pyplot as plt\n",
        "\n",
        "plt.scatter(alphas, ress)\n",
        "plt.plot(alphas, ress)\n",
        "# plt.fill_between(alphas, mins, maxs, alpha=0.6)\n",
        "plt.show()"
      ],
      "execution_count": 60,
      "outputs": [
        {
          "output_type": "display_data",
          "data": {
            "text/plain": [
              "<Figure size 640x480 with 1 Axes>"
            ],
            "image/png": "[encoded data removed]"
          },
          "metadata": {}
        }
      ]
    }
  ]
}