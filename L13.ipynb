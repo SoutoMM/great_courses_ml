{
  "nbformat": 4,
  "nbformat_minor": 0,
  "metadata": {
    "colab": {
      "name": "L13.ipynb",
      "provenance": []
    },
    "language_info": {
      "codemirror_mode": {
        "name": "ipython",
        "version": 3
      },
      "file_extension": ".py",
      "mimetype": "text/x-python",
      "name": "python",
      "nbconvert_exporter": "python",
      "pygments_lexer": "ipython3",
      "version": "3.6.8"
    },
    "kernelspec": {
      "display_name": "Python 3",
      "language": "python",
      "name": "python3"
    }
  },
  "cells": [
    {
      "cell_type": "markdown",
      "metadata": {
        "id": "_ZnbwJGToM_l"
      },
      "source": [
        "In this notebook, we train a model to learn a strategy for Blackjack using a decision tree regression.\n",
        "\n",
        "Below we write an `actionpicker` function that decides what `action` to play given the `observation` from the Blackjack simulator, `env`.\n",
        "`epsilon` percent of the time, we decide on a random `action`.\n",
        "\n",
        "We also write a `train` function fits our decision tree regression to our `dat` and `labs`."
      ]
    },
    {
      "cell_type": "code",
      "metadata": {
        "id": "9nI21j7xoDA6"
      },
      "source": [
        "def actionpicker(clf, env, observation, epsilon):\n",
        "  if clf == 0:\n",
        "    action = env.action_space.sample()\n",
        "  else:\n",
        "    pred = clf.predict([observation + (0,), observation + (1,)])\n",
        "    action = 1*(pred[1]>pred[0])\n",
        "  if random.random() < epsilon:\n",
        "    action = env.action_space.sample()\n",
        "  return(action)\n",
        "\n",
        "def train(dat, lab):\n",
        "  clf = tree.DecisionTreeRegressor(max_leaf_nodes = 6)\n",
        "  clf = clf.fit(dat, lab)\n",
        "  return(clf)"
      ],
      "execution_count": 1,
      "outputs": []
    },
    {
      "cell_type": "markdown",
      "metadata": {
        "id": "2Li0Pfimp_eT"
      },
      "source": [
        "In the next code block, we train our Blackjack playing model and visualize the descision tree regression we have learned.  We will train our model 5 times, playing 100,000 rounds, and print the number of rounds it won each time."
      ]
    },
    {
      "cell_type": "code",
      "metadata": {
        "id": "WUzI-EbQX-xJ",
        "colab": {
          "base_uri": "https://localhost:8080/",
          "height": 699
        },
        "outputId": "eca828e0-fca4-455a-d22e-7e5020983e41"
      },
      "source": [
        "# action 0 is stay\n",
        "# action 1 is hit\n",
        "\n",
        "import gym\n",
        "import graphviz\n",
        "from sklearn import tree\n",
        "import random\n",
        "\n",
        "env = gym.make(\"Blackjack-v1\")\n",
        "epochs = 5\n",
        "N = 100000\n",
        "epsilon = 0.1\n",
        "clf = 0\n",
        "\n",
        "for epoch in range(epochs):\n",
        "  dat = []\n",
        "  lab = []\n",
        "  wins = 0\n",
        "  for _ in range(N):\n",
        "    done = False\n",
        "    observation = env.reset()\n",
        "    while not done:\n",
        "      # pick an action\n",
        "      action = actionpicker(clf, env, observation, epsilon)\n",
        "\n",
        "      dat += [observation + (action,)]\n",
        "      observation, reward, done, info = env.step(action)\n",
        "      if done:\n",
        "        target = reward\n",
        "      elif epoch == 0:\n",
        "        target = 0\n",
        "      else:\n",
        "        pred = clf.predict([observation + (0,), observation + (1,)])\n",
        "        target = max(pred)\n",
        "      lab += [target]\n",
        "      if reward > 0.0: wins += 1\n",
        "  clf = train(dat, lab)\n",
        "\n",
        "  dot_data = tree.export_graphviz(clf, # class_names = [-1, 0, 1],\n",
        "                                feature_names = [\"holding\", \"dealer\", \"ace\", \"action\"], filled=True, rounded=True)\n",
        "  graph = graphviz.Source(dot_data)\n",
        "  env.close()\n",
        "#  print(dat)\n",
        "  print(wins)\n",
        "graph"
      ],
      "execution_count": 3,
      "outputs": [
        {
          "output_type": "stream",
          "name": "stderr",
          "text": [
            "/usr/local/lib/python3.10/dist-packages/gym/core.py:317: DeprecationWarning: \u001b[33mWARN: Initializing wrapper in old step API which returns one bool instead of two. It is recommended to set `new_step_api=True` to use new step API. This will be the default behaviour in future.\u001b[0m\n",
            "  deprecation(\n",
            "/usr/local/lib/python3.10/dist-packages/gym/wrappers/step_api_compatibility.py:39: DeprecationWarning: \u001b[33mWARN: Initializing environment in old step API which returns one bool instead of two. It is recommended to set `new_step_api=True` to use new step API. This will be the default behaviour in future.\u001b[0m\n",
            "  deprecation(\n"
          ]
        },
        {
          "output_type": "stream",
          "name": "stdout",
          "text": [
            "28345\n",
            "41355\n",
            "37486\n",
            "38152\n",
            "37907\n"
          ]
        },
        {
          "output_type": "execute_result",
          "data": {
            "image/svg+xml": "<?xml version=\"1.0\" encoding=\"UTF-8\" standalone=\"no\"?>\n<!DOCTYPE svg PUBLIC \"-//W3C//DTD SVG 1.1//EN\"\n \"http://www.w3.org/Graphics/SVG/1.1/DTD/svg11.dtd\">\n<!-- Generated by graphviz version 2.43.0 (0)\n -->\n<!-- Title: Tree Pages: 1 -->\n<svg width=\"750pt\" height=\"373pt\"\n viewBox=\"0.00 0.00 750.00 373.00\" xmlns=\"http://www.w3.org/2000/svg\" xmlns:xlink=\"http://www.w3.org/1999/xlink\">\n<g id=\"graph0\" class=\"graph\" transform=\"scale(1 1) rotate(0) translate(4 369)\">\n<title>Tree</title>\n<polygon fill=\"white\" stroke=\"transparent\" points=\"-4,4 -4,-369 746,-369 746,4 -4,4\"/>\n<!-- 0 -->\n<g id=\"node1\" class=\"node\">\n<title>0</title>\n<path fill=\"#f7d8c1\" stroke=\"black\" d=\"M476,-365C476,-365 349,-365 349,-365 343,-365 337,-359 337,-353 337,-353 337,-309 337,-309 337,-303 343,-297 349,-297 349,-297 476,-297 476,-297 482,-297 488,-303 488,-309 488,-309 488,-353 488,-353 488,-359 482,-365 476,-365\"/>\n<text text-anchor=\"middle\" x=\"412.5\" y=\"-349.8\" font-family=\"Helvetica,sans-Serif\" font-size=\"14.00\">holding &lt;= 18.5</text>\n<text text-anchor=\"middle\" x=\"412.5\" y=\"-334.8\" font-family=\"Helvetica,sans-Serif\" font-size=\"14.00\">squared_error = 0.896</text>\n<text text-anchor=\"middle\" x=\"412.5\" y=\"-319.8\" font-family=\"Helvetica,sans-Serif\" font-size=\"14.00\">samples = 103132</text>\n<text text-anchor=\"middle\" x=\"412.5\" y=\"-304.8\" font-family=\"Helvetica,sans-Serif\" font-size=\"14.00\">value = &#45;0.186</text>\n</g>\n<!-- 1 -->\n<g id=\"node2\" class=\"node\">\n<title>1</title>\n<path fill=\"#fae7d9\" stroke=\"black\" d=\"M392,-261C392,-261 265,-261 265,-261 259,-261 253,-255 253,-249 253,-249 253,-205 253,-205 253,-199 259,-193 265,-193 265,-193 392,-193 392,-193 398,-193 404,-199 404,-205 404,-205 404,-249 404,-249 404,-255 398,-261 392,-261\"/>\n<text text-anchor=\"middle\" x=\"328.5\" y=\"-245.8\" font-family=\"Helvetica,sans-Serif\" font-size=\"14.00\">dealer &lt;= 7.5</text>\n<text text-anchor=\"middle\" x=\"328.5\" y=\"-230.8\" font-family=\"Helvetica,sans-Serif\" font-size=\"14.00\">squared_error = 0.804</text>\n<text text-anchor=\"middle\" x=\"328.5\" y=\"-215.8\" font-family=\"Helvetica,sans-Serif\" font-size=\"14.00\">samples = 80475</text>\n<text text-anchor=\"middle\" x=\"328.5\" y=\"-200.8\" font-family=\"Helvetica,sans-Serif\" font-size=\"14.00\">value = &#45;0.384</text>\n</g>\n<!-- 0&#45;&gt;1 -->\n<g id=\"edge1\" class=\"edge\">\n<title>0&#45;&gt;1</title>\n<path fill=\"none\" stroke=\"black\" d=\"M385.23,-296.88C377.97,-288.07 370.03,-278.43 362.46,-269.24\"/>\n<polygon fill=\"black\" stroke=\"black\" points=\"364.98,-266.79 355.92,-261.3 359.58,-271.24 364.98,-266.79\"/>\n<text text-anchor=\"middle\" x=\"353.51\" y=\"-282.48\" font-family=\"Helvetica,sans-Serif\" font-size=\"14.00\">True</text>\n</g>\n<!-- 2 -->\n<g id=\"node7\" class=\"node\">\n<title>2</title>\n<path fill=\"#eca26d\" stroke=\"black\" d=\"M561,-261C561,-261 434,-261 434,-261 428,-261 422,-255 422,-249 422,-249 422,-205 422,-205 422,-199 428,-193 434,-193 434,-193 561,-193 561,-193 567,-193 573,-199 573,-205 573,-205 573,-249 573,-249 573,-255 567,-261 561,-261\"/>\n<text text-anchor=\"middle\" x=\"497.5\" y=\"-245.8\" font-family=\"Helvetica,sans-Serif\" font-size=\"14.00\">action &lt;= 0.5</text>\n<text text-anchor=\"middle\" x=\"497.5\" y=\"-230.8\" font-family=\"Helvetica,sans-Serif\" font-size=\"14.00\">squared_error = 0.591</text>\n<text text-anchor=\"middle\" x=\"497.5\" y=\"-215.8\" font-family=\"Helvetica,sans-Serif\" font-size=\"14.00\">samples = 22657</text>\n<text text-anchor=\"middle\" x=\"497.5\" y=\"-200.8\" font-family=\"Helvetica,sans-Serif\" font-size=\"14.00\">value = 0.515</text>\n</g>\n<!-- 0&#45;&gt;2 -->\n<g id=\"edge6\" class=\"edge\">\n<title>0&#45;&gt;2</title>\n<path fill=\"none\" stroke=\"black\" d=\"M440.1,-296.88C447.45,-288.07 455.47,-278.43 463.14,-269.24\"/>\n<polygon fill=\"black\" stroke=\"black\" points=\"466.04,-271.22 469.75,-261.3 460.66,-266.74 466.04,-271.22\"/>\n<text text-anchor=\"middle\" x=\"472.01\" y=\"-282.5\" font-family=\"Helvetica,sans-Serif\" font-size=\"14.00\">False</text>\n</g>\n<!-- 5 -->\n<g id=\"node3\" class=\"node\">\n<title>5</title>\n<path fill=\"#f8decc\" stroke=\"black\" d=\"M223,-157C223,-157 96,-157 96,-157 90,-157 84,-151 84,-145 84,-145 84,-101 84,-101 84,-95 90,-89 96,-89 96,-89 223,-89 223,-89 229,-89 235,-95 235,-101 235,-101 235,-145 235,-145 235,-151 229,-157 223,-157\"/>\n<text text-anchor=\"middle\" x=\"159.5\" y=\"-141.8\" font-family=\"Helvetica,sans-Serif\" font-size=\"14.00\">dealer &lt;= 1.5</text>\n<text text-anchor=\"middle\" x=\"159.5\" y=\"-126.8\" font-family=\"Helvetica,sans-Serif\" font-size=\"14.00\">squared_error = 0.872</text>\n<text text-anchor=\"middle\" x=\"159.5\" y=\"-111.8\" font-family=\"Helvetica,sans-Serif\" font-size=\"14.00\">samples = 43118</text>\n<text text-anchor=\"middle\" x=\"159.5\" y=\"-96.8\" font-family=\"Helvetica,sans-Serif\" font-size=\"14.00\">value = &#45;0.276</text>\n</g>\n<!-- 1&#45;&gt;5 -->\n<g id=\"edge2\" class=\"edge\">\n<title>1&#45;&gt;5</title>\n<path fill=\"none\" stroke=\"black\" d=\"M273.63,-192.88C257.46,-183.12 239.64,-172.37 222.97,-162.31\"/>\n<polygon fill=\"black\" stroke=\"black\" points=\"224.75,-159.3 214.38,-157.12 221.14,-165.29 224.75,-159.3\"/>\n</g>\n<!-- 6 -->\n<g id=\"node6\" class=\"node\">\n<title>6</title>\n<path fill=\"#fcf0e8\" stroke=\"black\" d=\"M392,-149.5C392,-149.5 265,-149.5 265,-149.5 259,-149.5 253,-143.5 253,-137.5 253,-137.5 253,-108.5 253,-108.5 253,-102.5 259,-96.5 265,-96.5 265,-96.5 392,-96.5 392,-96.5 398,-96.5 404,-102.5 404,-108.5 404,-108.5 404,-137.5 404,-137.5 404,-143.5 398,-149.5 392,-149.5\"/>\n<text text-anchor=\"middle\" x=\"328.5\" y=\"-134.3\" font-family=\"Helvetica,sans-Serif\" font-size=\"14.00\">squared_error = 0.696</text>\n<text text-anchor=\"middle\" x=\"328.5\" y=\"-119.3\" font-family=\"Helvetica,sans-Serif\" font-size=\"14.00\">samples = 37357</text>\n<text text-anchor=\"middle\" x=\"328.5\" y=\"-104.3\" font-family=\"Helvetica,sans-Serif\" font-size=\"14.00\">value = &#45;0.508</text>\n</g>\n<!-- 1&#45;&gt;6 -->\n<g id=\"edge5\" class=\"edge\">\n<title>1&#45;&gt;6</title>\n<path fill=\"none\" stroke=\"black\" d=\"M328.5,-192.88C328.5,-182.33 328.5,-170.6 328.5,-159.85\"/>\n<polygon fill=\"black\" stroke=\"black\" points=\"332,-159.52 328.5,-149.52 325,-159.52 332,-159.52\"/>\n</g>\n<!-- 7 -->\n<g id=\"node4\" class=\"node\">\n<title>7</title>\n<path fill=\"#ffffff\" stroke=\"black\" d=\"M139,-53C139,-53 12,-53 12,-53 6,-53 0,-47 0,-41 0,-41 0,-12 0,-12 0,-6 6,0 12,0 12,0 139,0 139,0 145,0 151,-6 151,-12 151,-12 151,-41 151,-41 151,-47 145,-53 139,-53\"/>\n<text text-anchor=\"middle\" x=\"75.5\" y=\"-37.8\" font-family=\"Helvetica,sans-Serif\" font-size=\"14.00\">squared_error = 0.459</text>\n<text text-anchor=\"middle\" x=\"75.5\" y=\"-22.8\" font-family=\"Helvetica,sans-Serif\" font-size=\"14.00\">samples = 6147</text>\n<text text-anchor=\"middle\" x=\"75.5\" y=\"-7.8\" font-family=\"Helvetica,sans-Serif\" font-size=\"14.00\">value = &#45;0.702</text>\n</g>\n<!-- 5&#45;&gt;7 -->\n<g id=\"edge3\" class=\"edge\">\n<title>5&#45;&gt;7</title>\n<path fill=\"none\" stroke=\"black\" d=\"M130.12,-88.95C121.99,-79.8 113.16,-69.87 105.02,-60.71\"/>\n<polygon fill=\"black\" stroke=\"black\" points=\"107.64,-58.39 98.38,-53.24 102.4,-63.04 107.64,-58.39\"/>\n</g>\n<!-- 8 -->\n<g id=\"node5\" class=\"node\">\n<title>8</title>\n<path fill=\"#f7d9c3\" stroke=\"black\" d=\"M308,-53C308,-53 181,-53 181,-53 175,-53 169,-47 169,-41 169,-41 169,-12 169,-12 169,-6 175,0 181,0 181,0 308,0 308,0 314,0 320,-6 320,-12 320,-12 320,-41 320,-41 320,-47 314,-53 308,-53\"/>\n<text text-anchor=\"middle\" x=\"244.5\" y=\"-37.8\" font-family=\"Helvetica,sans-Serif\" font-size=\"14.00\">squared_error = 0.906</text>\n<text text-anchor=\"middle\" x=\"244.5\" y=\"-22.8\" font-family=\"Helvetica,sans-Serif\" font-size=\"14.00\">samples = 36971</text>\n<text text-anchor=\"middle\" x=\"244.5\" y=\"-7.8\" font-family=\"Helvetica,sans-Serif\" font-size=\"14.00\">value = &#45;0.206</text>\n</g>\n<!-- 5&#45;&gt;8 -->\n<g id=\"edge4\" class=\"edge\">\n<title>5&#45;&gt;8</title>\n<path fill=\"none\" stroke=\"black\" d=\"M189.23,-88.95C197.46,-79.8 206.39,-69.87 214.63,-60.71\"/>\n<polygon fill=\"black\" stroke=\"black\" points=\"217.27,-63.01 221.35,-53.24 212.06,-58.33 217.27,-63.01\"/>\n</g>\n<!-- 3 -->\n<g id=\"node8\" class=\"node\">\n<title>3</title>\n<path fill=\"#eb9e66\" stroke=\"black\" d=\"M561,-157C561,-157 434,-157 434,-157 428,-157 422,-151 422,-145 422,-145 422,-101 422,-101 422,-95 428,-89 434,-89 434,-89 561,-89 561,-89 567,-89 573,-95 573,-101 573,-101 573,-145 573,-145 573,-151 567,-157 561,-157\"/>\n<text text-anchor=\"middle\" x=\"497.5\" y=\"-141.8\" font-family=\"Helvetica,sans-Serif\" font-size=\"14.00\">holding &lt;= 20.5</text>\n<text text-anchor=\"middle\" x=\"497.5\" y=\"-126.8\" font-family=\"Helvetica,sans-Serif\" font-size=\"14.00\">squared_error = 0.535</text>\n<text text-anchor=\"middle\" x=\"497.5\" y=\"-111.8\" font-family=\"Helvetica,sans-Serif\" font-size=\"14.00\">samples = 21528</text>\n<text text-anchor=\"middle\" x=\"497.5\" y=\"-96.8\" font-family=\"Helvetica,sans-Serif\" font-size=\"14.00\">value = 0.571</text>\n</g>\n<!-- 2&#45;&gt;3 -->\n<g id=\"edge7\" class=\"edge\">\n<title>2&#45;&gt;3</title>\n<path fill=\"none\" stroke=\"black\" d=\"M497.5,-192.88C497.5,-184.78 497.5,-175.98 497.5,-167.47\"/>\n<polygon fill=\"black\" stroke=\"black\" points=\"501,-167.3 497.5,-157.3 494,-167.3 501,-167.3\"/>\n</g>\n<!-- 4 -->\n<g id=\"node11\" class=\"node\">\n<title>4</title>\n<path fill=\"#fcf3ec\" stroke=\"black\" d=\"M730,-149.5C730,-149.5 603,-149.5 603,-149.5 597,-149.5 591,-143.5 591,-137.5 591,-137.5 591,-108.5 591,-108.5 591,-102.5 597,-96.5 603,-96.5 603,-96.5 730,-96.5 730,-96.5 736,-96.5 742,-102.5 742,-108.5 742,-108.5 742,-137.5 742,-137.5 742,-143.5 736,-149.5 730,-149.5\"/>\n<text text-anchor=\"middle\" x=\"666.5\" y=\"-134.3\" font-family=\"Helvetica,sans-Serif\" font-size=\"14.00\">squared_error = 0.483</text>\n<text text-anchor=\"middle\" x=\"666.5\" y=\"-119.3\" font-family=\"Helvetica,sans-Serif\" font-size=\"14.00\">samples = 1129</text>\n<text text-anchor=\"middle\" x=\"666.5\" y=\"-104.3\" font-family=\"Helvetica,sans-Serif\" font-size=\"14.00\">value = &#45;0.543</text>\n</g>\n<!-- 2&#45;&gt;4 -->\n<g id=\"edge10\" class=\"edge\">\n<title>2&#45;&gt;4</title>\n<path fill=\"none\" stroke=\"black\" d=\"M552.37,-192.88C572.69,-180.62 595.62,-166.78 615.57,-154.74\"/>\n<polygon fill=\"black\" stroke=\"black\" points=\"617.46,-157.68 624.22,-149.52 613.85,-151.69 617.46,-157.68\"/>\n</g>\n<!-- 9 -->\n<g id=\"node9\" class=\"node\">\n<title>9</title>\n<path fill=\"#eda673\" stroke=\"black\" d=\"M519,-53C519,-53 392,-53 392,-53 386,-53 380,-47 380,-41 380,-41 380,-12 380,-12 380,-6 386,0 392,0 392,0 519,0 519,0 525,0 531,-6 531,-12 531,-12 531,-41 531,-41 531,-47 525,-53 519,-53\"/>\n<text text-anchor=\"middle\" x=\"455.5\" y=\"-37.8\" font-family=\"Helvetica,sans-Serif\" font-size=\"14.00\">squared_error = 0.624</text>\n<text text-anchor=\"middle\" x=\"455.5\" y=\"-22.8\" font-family=\"Helvetica,sans-Serif\" font-size=\"14.00\">samples = 16601</text>\n<text text-anchor=\"middle\" x=\"455.5\" y=\"-7.8\" font-family=\"Helvetica,sans-Serif\" font-size=\"14.00\">value = 0.46</text>\n</g>\n<!-- 3&#45;&gt;9 -->\n<g id=\"edge8\" class=\"edge\">\n<title>3&#45;&gt;9</title>\n<path fill=\"none\" stroke=\"black\" d=\"M482.81,-88.95C479.03,-80.44 474.95,-71.26 471.12,-62.65\"/>\n<polygon fill=\"black\" stroke=\"black\" points=\"474.2,-60.95 466.94,-53.24 467.8,-63.8 474.2,-60.95\"/>\n</g>\n<!-- 10 -->\n<g id=\"node10\" class=\"node\">\n<title>10</title>\n<path fill=\"#e58139\" stroke=\"black\" d=\"M688,-53C688,-53 561,-53 561,-53 555,-53 549,-47 549,-41 549,-41 549,-12 549,-12 549,-6 555,0 561,0 561,0 688,0 688,0 694,0 700,-6 700,-12 700,-12 700,-41 700,-41 700,-47 694,-53 688,-53\"/>\n<text text-anchor=\"middle\" x=\"624.5\" y=\"-37.8\" font-family=\"Helvetica,sans-Serif\" font-size=\"14.00\">squared_error = 0.053</text>\n<text text-anchor=\"middle\" x=\"624.5\" y=\"-22.8\" font-family=\"Helvetica,sans-Serif\" font-size=\"14.00\">samples = 4927</text>\n<text text-anchor=\"middle\" x=\"624.5\" y=\"-7.8\" font-family=\"Helvetica,sans-Serif\" font-size=\"14.00\">value = 0.944</text>\n</g>\n<!-- 3&#45;&gt;10 -->\n<g id=\"edge9\" class=\"edge\">\n<title>3&#45;&gt;10</title>\n<path fill=\"none\" stroke=\"black\" d=\"M541.92,-88.95C554.83,-79.34 568.9,-68.87 581.7,-59.34\"/>\n<polygon fill=\"black\" stroke=\"black\" points=\"583.98,-62.01 589.91,-53.24 579.8,-56.4 583.98,-62.01\"/>\n</g>\n</g>\n</svg>\n",
            "text/plain": [
              "<graphviz.sources.Source at 0x7aa6c6b64820>"
            ]
          },
          "metadata": {},
          "execution_count": 3
        }
      ]
    }
  ]
}