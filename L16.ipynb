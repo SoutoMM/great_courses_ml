{
  "nbformat": 4,
  "nbformat_minor": 0,
  "metadata": {
    "colab": {
      "name": "L16.ipynb",
      "provenance": []
    },
    "language_info": {
      "codemirror_mode": {
        "name": "ipython",
        "version": 3
      },
      "file_extension": ".py",
      "mimetype": "text/x-python",
      "name": "python",
      "nbconvert_exporter": "python",
      "pygments_lexer": "ipython3",
      "version": "3.6.8"
    },
    "kernelspec": {
      "display_name": "Python 3",
      "language": "python",
      "name": "python3"
    },
    "accelerator": "GPU"
  },
  "cells": [
    {
      "cell_type": "markdown",
      "metadata": {
        "id": "OydShklHHtdh"
      },
      "source": [
        "In this notebook, we'll build a model to classify online posts about baseball and hockey.\n",
        "\n",
        "Below we download the online posts data."
      ]
    },
    {
      "cell_type": "code",
      "metadata": {
        "id": "ofSSY-oGw8rw"
      },
      "source": [
        "from sklearn.datasets import fetch_20newsgroups\n",
        "# from sklearn.feature_extraction.text import TfidfVectorizer\n",
        "groups = ['rec.sport.baseball', 'rec.sport.hockey']\n",
        "newsgroups = fetch_20newsgroups(subset='all', remove = ['headers', 'footers', 'quotes'], categories = groups)"
      ],
      "execution_count": 12,
      "outputs": []
    },
    {
      "cell_type": "code",
      "metadata": {
        "id": "tbhmnw-Ewyk7"
      },
      "source": [
        "# from sklearn.naive_bayes import MultinomialNB\n",
        "# from sklearn import metrics\n",
        "# newsgroups_test = fetch_20newsgroups(subset='test', remove = ['headers', 'footers', 'quotes'], categories = groups)\n",
        "# vectors_test = vectorizer.transform(newsgroups_test.data)\n",
        "# clf = MultinomialNB(alpha=.01)\n",
        "# clf.fit(vectors, newsgroups_train.target)\n",
        "# pred = clf.predict(vectors_test)\n",
        "# metrics.f1_score(newsgroups_test.target, pred, average='macro')\n",
        "# 0.88213592402729568 (full set)\n",
        "# 0.9320767597087378"
      ],
      "execution_count": 13,
      "outputs": []
    },
    {
      "cell_type": "markdown",
      "metadata": {
        "id": "t4GDNzTYIqso"
      },
      "source": [
        "Next, we download GloVe vectors we will be using to represent our post data."
      ]
    },
    {
      "cell_type": "code",
      "metadata": {
        "id": "sCjJULtUqjAe",
        "colab": {
          "base_uri": "https://localhost:8080/"
        },
        "outputId": "280cdd7d-2050-48be-f0ad-e70766101134"
      },
      "source": [
        "!wget http://nlp.stanford.edu/data/glove.6B.zip"
      ],
      "execution_count": 14,
      "outputs": [
        {
          "output_type": "stream",
          "name": "stdout",
          "text": [
            "--2023-09-26 09:46:32--  http://nlp.stanford.edu/data/glove.6B.zip\n",
            "Resolving nlp.stanford.edu (nlp.stanford.edu)... 171.64.67.140\n",
            "Connecting to nlp.stanford.edu (nlp.stanford.edu)|171.64.67.140|:80... connected.\n",
            "HTTP request sent, awaiting response... 302 Found\n",
            "Location: https://nlp.stanford.edu/data/glove.6B.zip [following]\n",
            "--2023-09-26 09:46:32--  https://nlp.stanford.edu/data/glove.6B.zip\n",
            "Connecting to nlp.stanford.edu (nlp.stanford.edu)|171.64.67.140|:443... connected.\n",
            "HTTP request sent, awaiting response... 301 Moved Permanently\n",
            "Location: https://downloads.cs.stanford.edu/nlp/data/glove.6B.zip [following]\n",
            "--2023-09-26 09:46:32--  https://downloads.cs.stanford.edu/nlp/data/glove.6B.zip\n",
            "Resolving downloads.cs.stanford.edu (downloads.cs.stanford.edu)... 171.64.64.22\n",
            "Connecting to downloads.cs.stanford.edu (downloads.cs.stanford.edu)|171.64.64.22|:443... connected.\n",
            "HTTP request sent, awaiting response... 200 OK\n",
            "Length: 862182613 (822M) [application/zip]\n",
            "Saving to: ‘glove.6B.zip.1’\n",
            "\n",
            "glove.6B.zip.1      100%[===================>] 822.24M  4.63MB/s    in 2m 40s  \n",
            "\n",
            "2023-09-26 09:49:13 (5.13 MB/s) - ‘glove.6B.zip.1’ saved [862182613/862182613]\n",
            "\n"
          ]
        }
      ]
    },
    {
      "cell_type": "markdown",
      "metadata": {
        "id": "GZsutIRzJCzg"
      },
      "source": [
        "Below we unzip the GloVe file we downloaded."
      ]
    },
    {
      "cell_type": "code",
      "metadata": {
        "id": "5j_YyS37qv7m",
        "colab": {
          "base_uri": "https://localhost:8080/"
        },
        "outputId": "84185a50-9dec-4f3d-b7a4-a5d109b207f4"
      },
      "source": [
        "!unzip glove.6B.zip"
      ],
      "execution_count": 15,
      "outputs": [
        {
          "output_type": "stream",
          "name": "stdout",
          "text": [
            "Archive:  glove.6B.zip\n",
            "replace glove.6B.50d.txt? [y]es, [n]o, [A]ll, [N]one, [r]ename: y\n",
            "  inflating: glove.6B.50d.txt        \n",
            "replace glove.6B.100d.txt? [y]es, [n]o, [A]ll, [N]one, [r]ename: y\n",
            "  inflating: glove.6B.100d.txt       \n",
            "replace glove.6B.200d.txt? [y]es, [n]o, [A]ll, [N]one, [r]ename: y\n",
            "  inflating: glove.6B.200d.txt       \n",
            "replace glove.6B.300d.txt? [y]es, [n]o, [A]ll, [N]one, [r]ename: A\n",
            "  inflating: glove.6B.300d.txt       \n"
          ]
        }
      ]
    },
    {
      "cell_type": "markdown",
      "metadata": {
        "id": "lmi-6INoJHbv"
      },
      "source": [
        "Next, we load the GloVe vectors."
      ]
    },
    {
      "cell_type": "code",
      "metadata": {
        "id": "siJVA4bpyPY8",
        "colab": {
          "base_uri": "https://localhost:8080/"
        },
        "outputId": "59ad3592-53b3-4dfd-9b38-611ea9117d79"
      },
      "source": [
        "import numpy as np\n",
        "\n",
        "embeddings_index = {}\n",
        "f = open('glove.6B.100d.txt')\n",
        "for line in f:\n",
        "    values = line.split()\n",
        "    word = values[0]\n",
        "    coefs = np.asarray(values[1:], dtype='float32')\n",
        "    embeddings_index[word] = coefs\n",
        "f.close()\n",
        "\n",
        "print('Found %s word vectors.' % len(embeddings_index))"
      ],
      "execution_count": 16,
      "outputs": [
        {
          "output_type": "stream",
          "name": "stdout",
          "text": [
            "Found 400000 word vectors.\n"
          ]
        }
      ]
    },
    {
      "cell_type": "markdown",
      "metadata": {
        "id": "Zzij4IlhJMsE"
      },
      "source": [
        "Next, we convert the data to a collection of word GloVe word vectors for each of the words in our dataset."
      ]
    },
    {
      "cell_type": "code",
      "metadata": {
        "id": "CB7FMHUsI4WD",
        "colab": {
          "base_uri": "https://localhost:8080/"
        },
        "outputId": "5257613b-ff79-4dca-e4d1-684f239ca62a"
      },
      "source": [
        "# !pip install keras=='2.3.1'\n",
        "import tensorflow as tf\n",
        "# from tf.keras.preprocessing.text import Tokenizer\n",
        "# from keras.preprocessing.sequence import pad_sequences\n",
        "# from keras.utils import to_categorical\n",
        "\n",
        "print('Preparing embedding matrix.')\n",
        "MAX_NUM_WORDS = 20000\n",
        "MAX_SEQUENCE_LENGTH = 1000\n",
        "EMBEDDING_DIM = 100\n",
        "\n",
        "tokenizer = tf.keras.preprocessing.text.Tokenizer(num_words=MAX_NUM_WORDS)\n",
        "tokenizer.fit_on_texts(newsgroups.data)\n",
        "sequences = tokenizer.texts_to_sequences(newsgroups.data)\n",
        "\n",
        "word_index = tokenizer.word_index\n",
        "\n",
        "# prepare embedding matrix\n",
        "num_words = min(MAX_NUM_WORDS, len(word_index) + 1)\n",
        "embedding_matrix = np.zeros((num_words, EMBEDDING_DIM))\n",
        "for word, i in word_index.items():\n",
        "    if i >= MAX_NUM_WORDS:\n",
        "        continue\n",
        "    embedding_vector = embeddings_index.get(word)\n",
        "    if embedding_vector is not None:\n",
        "        # words not found in embedding index will be all-zeros.\n",
        "        embedding_matrix[i] = embedding_vector"
      ],
      "execution_count": 17,
      "outputs": [
        {
          "output_type": "stream",
          "name": "stdout",
          "text": [
            "Preparing embedding matrix.\n"
          ]
        }
      ]
    },
    {
      "cell_type": "markdown",
      "metadata": {
        "id": "BuuAUWLxJqe-"
      },
      "source": [
        "Next, we'll build our dataset for training, `data` and `labels`, as well as our test set, `data_test` and `labels_test`.  We will limit our training set to 200 examples."
      ]
    },
    {
      "cell_type": "code",
      "metadata": {
        "id": "71Npelu5XOXI",
        "outputId": "bb0a4ba5-50cc-4a87-88f3-3bfdf70387af",
        "colab": {
          "base_uri": "https://localhost:8080/"
        }
      },
      "source": [
        "# from keras.preprocessing.text import Tokenizer\n",
        "# from keras.preprocessing.sequence import pad_sequences\n",
        "from keras.utils import to_categorical\n",
        "from sklearn.model_selection import train_test_split\n",
        "\n",
        "# finally, vectorize the text samples into a 2D integer tensor\n",
        "MAX_NUM_WORDS = 20000\n",
        "MAX_SEQUENCE_LENGTH = 1000\n",
        "\n",
        "tokenizer = tf.keras.preprocessing.text.Tokenizer(num_words=MAX_NUM_WORDS)\n",
        "tokenizer.fit_on_texts(newsgroups.data)\n",
        "sequences = tokenizer.texts_to_sequences(newsgroups.data)\n",
        "\n",
        "word_index = tokenizer.word_index\n",
        "print('Found %s unique tokens.' % len(word_index))\n",
        "\n",
        "data = tf.keras.preprocessing.sequence.pad_sequences(sequences, maxlen=MAX_SEQUENCE_LENGTH)\n",
        "labels = to_categorical(np.asarray(newsgroups.target))\n",
        "\n",
        "# print(data.shape)\n",
        "\n",
        "data, data_test, labels, labels_test = train_test_split(data,labels,train_size=200)\n",
        "\n",
        "print('Shape of data tensor:', data.shape)\n",
        "print('Shape of label tensor:', labels.shape)\n",
        "print('Shape of data_test tensor:', data_test.shape)\n",
        "print('Shape of label_test tensor:', labels_test.shape)\n",
        "\n",
        "# split the data into a training set and a validation set\n",
        "# indices = np.arange(data.shape[0])\n",
        "# np.random.shuffle(indices)\n",
        "# data = data[indices]\n",
        "# labels = labels[indices]\n",
        "# num_validation_samples = int(VALIDATION_SPLIT * data.shape[0])\n",
        "\n",
        "# x_train = data[:-num_validation_samples]\n",
        "# y_train = labels[:-num_validation_samples]\n",
        "# x_val = data[-num_validation_samples:]\n",
        "# y_val = labels[-num_validation_samples:]"
      ],
      "execution_count": 18,
      "outputs": [
        {
          "output_type": "stream",
          "name": "stdout",
          "text": [
            "Found 18135 unique tokens.\n",
            "Shape of data tensor: (200, 1000)\n",
            "Shape of label tensor: (200, 2)\n",
            "Shape of data_test tensor: (1793, 1000)\n",
            "Shape of label_test tensor: (1793, 2)\n"
          ]
        }
      ]
    },
    {
      "cell_type": "markdown",
      "metadata": {
        "id": "3Q80Hv4ZMM14"
      },
      "source": [
        "Next, we'll declare a `train` function that declares and trains the model with `pretrain` weights.  "
      ]
    },
    {
      "cell_type": "code",
      "metadata": {
        "id": "MG5dKkuxW95S"
      },
      "source": [
        "from keras.layers import Dense, Input, GlobalMaxPooling1D\n",
        "from keras.layers import Conv1D, MaxPooling1D, Embedding\n",
        "from keras.models import Model\n",
        "from keras.initializers import Constant\n",
        "# from keras.optimizers import RMSprop\n",
        "# from keras.optimizers import Adam\n",
        "from keras import optimizers\n",
        "\n",
        "EMBEDDING_DIM = 100\n",
        "\n",
        "# load pre-trained word embeddings into an Embedding layer\n",
        "# note that we set trainable = False so as to keep the embeddings fixed\n",
        "# num_words = len(vectorizer.vocabulary_)\n",
        "# num_words = len(word_index)+1\n",
        "\n",
        "def train(pretrain):\n",
        "  if not pretrain:  # train your own embedding\n",
        "    embedding_layer = Embedding(num_words,\n",
        "                              EMBEDDING_DIM,\n",
        "                              input_length=MAX_SEQUENCE_LENGTH,\n",
        "                              trainable=True\n",
        "                             )\n",
        "  else:\n",
        "      embedding_layer = Embedding(num_words,\n",
        "                              EMBEDDING_DIM,\n",
        "                              embeddings_initializer=Constant(embedding_matrix),\n",
        "                              input_length=MAX_SEQUENCE_LENGTH,\n",
        "                              trainable=False\n",
        "                           )\n",
        "  print('Training model.')\n",
        "\n",
        "  # train a 1D convnet with global maxpooling\n",
        "  sequence_input = Input(shape=(MAX_SEQUENCE_LENGTH,), dtype='int32')\n",
        "\n",
        "  embedded_sequences = embedding_layer(sequence_input)\n",
        "  x = Conv1D(128, 5, activation='relu')(embedded_sequences)\n",
        "  x = MaxPooling1D(5)(x)\n",
        "  x = Conv1D(128, 5, activation='relu')(x)\n",
        "  x = MaxPooling1D(5)(x)\n",
        "  x = Conv1D(128, 5, activation='relu')(x)\n",
        "  x = GlobalMaxPooling1D()(x)\n",
        "  x = Dense(128, activation='relu')(x)\n",
        "  preds = Dense(len(groups), activation='softmax')(x)\n",
        "\n",
        "  solver = optimizers.Adam(learning_rate=0.0005, beta_1=0.9, beta_2=0.999, amsgrad=False)\n",
        "\n",
        "  model = Model(sequence_input, preds)\n",
        "  model.compile(loss='categorical_crossentropy',\n",
        "                optimizer=solver,\n",
        "                metrics=['acc'])\n",
        "\n",
        "  model.fit(data, labels,\n",
        "            epochs=100,\n",
        "            validation_data=(data_test, labels_test))"
      ],
      "execution_count": 19,
      "outputs": []
    },
    {
      "cell_type": "markdown",
      "metadata": {
        "id": "1Ufl-EMEMn7L"
      },
      "source": [
        "Below we train the model without pretrained weights."
      ]
    },
    {
      "cell_type": "code",
      "metadata": {
        "id": "cBFzGzyqXKGk",
        "outputId": "8117b75e-2fd0-47ca-f1fc-c21e818a3f59",
        "colab": {
          "base_uri": "https://localhost:8080/"
        }
      },
      "source": [
        "train(False)"
      ],
      "execution_count": 20,
      "outputs": [
        {
          "output_type": "stream",
          "name": "stdout",
          "text": [
            "Training model.\n",
            "Epoch 1/100\n",
            "7/7 [==============================] - 5s 270ms/step - loss: 0.6947 - acc: 0.4850 - val_loss: 0.6929 - val_acc: 0.5466\n",
            "Epoch 2/100\n",
            "7/7 [==============================] - 2s 225ms/step - loss: 0.6898 - acc: 0.5300 - val_loss: 0.6921 - val_acc: 0.5270\n",
            "Epoch 3/100\n",
            "7/7 [==============================] - 2s 254ms/step - loss: 0.6790 - acc: 0.7550 - val_loss: 0.6929 - val_acc: 0.5075\n",
            "Epoch 4/100\n",
            "7/7 [==============================] - 2s 257ms/step - loss: 0.6657 - acc: 0.7250 - val_loss: 0.6919 - val_acc: 0.5153\n",
            "Epoch 5/100\n",
            "7/7 [==============================] - 2s 247ms/step - loss: 0.6451 - acc: 0.8450 - val_loss: 0.6889 - val_acc: 0.5510\n",
            "Epoch 6/100\n",
            "7/7 [==============================] - 2s 228ms/step - loss: 0.6119 - acc: 0.9000 - val_loss: 0.6877 - val_acc: 0.5343\n",
            "Epoch 7/100\n",
            "7/7 [==============================] - 3s 375ms/step - loss: 0.5605 - acc: 0.8850 - val_loss: 0.6827 - val_acc: 0.5666\n",
            "Epoch 8/100\n",
            "7/7 [==============================] - 2s 258ms/step - loss: 0.4871 - acc: 0.9400 - val_loss: 0.6728 - val_acc: 0.6068\n",
            "Epoch 9/100\n",
            "7/7 [==============================] - 1s 221ms/step - loss: 0.3661 - acc: 0.9400 - val_loss: 0.6691 - val_acc: 0.5867\n",
            "Epoch 10/100\n",
            "7/7 [==============================] - 2s 215ms/step - loss: 0.2388 - acc: 0.9500 - val_loss: 0.5874 - val_acc: 0.7412\n",
            "Epoch 11/100\n",
            "7/7 [==============================] - 2s 247ms/step - loss: 0.1319 - acc: 0.9650 - val_loss: 0.5841 - val_acc: 0.6442\n",
            "Epoch 12/100\n",
            "7/7 [==============================] - 2s 248ms/step - loss: 0.0725 - acc: 0.9800 - val_loss: 0.4865 - val_acc: 0.7652\n",
            "Epoch 13/100\n",
            "7/7 [==============================] - 2s 246ms/step - loss: 0.0415 - acc: 0.9950 - val_loss: 0.4511 - val_acc: 0.7691\n",
            "Epoch 14/100\n",
            "7/7 [==============================] - 3s 382ms/step - loss: 0.0339 - acc: 0.9850 - val_loss: 0.4795 - val_acc: 0.7758\n",
            "Epoch 15/100\n",
            "7/7 [==============================] - 1s 212ms/step - loss: 0.0203 - acc: 0.9900 - val_loss: 0.4699 - val_acc: 0.7641\n",
            "Epoch 16/100\n",
            "7/7 [==============================] - 2s 241ms/step - loss: 0.0139 - acc: 1.0000 - val_loss: 0.4677 - val_acc: 0.7758\n",
            "Epoch 17/100\n",
            "7/7 [==============================] - 2s 269ms/step - loss: 0.0093 - acc: 1.0000 - val_loss: 0.4993 - val_acc: 0.7552\n",
            "Epoch 18/100\n",
            "7/7 [==============================] - 2s 258ms/step - loss: 0.0067 - acc: 1.0000 - val_loss: 0.4833 - val_acc: 0.7741\n",
            "Epoch 19/100\n",
            "7/7 [==============================] - 2s 248ms/step - loss: 0.0047 - acc: 1.0000 - val_loss: 0.4715 - val_acc: 0.7803\n",
            "Epoch 20/100\n",
            "7/7 [==============================] - 1s 213ms/step - loss: 0.0035 - acc: 1.0000 - val_loss: 0.4730 - val_acc: 0.7948\n",
            "Epoch 21/100\n",
            "7/7 [==============================] - 3s 436ms/step - loss: 0.0027 - acc: 1.0000 - val_loss: 0.4818 - val_acc: 0.7881\n",
            "Epoch 22/100\n",
            "7/7 [==============================] - 2s 256ms/step - loss: 0.0024 - acc: 1.0000 - val_loss: 0.5421 - val_acc: 0.7546\n",
            "Epoch 23/100\n",
            "7/7 [==============================] - 1s 209ms/step - loss: 0.0019 - acc: 1.0000 - val_loss: 0.5158 - val_acc: 0.7747\n",
            "Epoch 24/100\n",
            "7/7 [==============================] - 2s 241ms/step - loss: 0.0013 - acc: 1.0000 - val_loss: 0.5008 - val_acc: 0.7920\n",
            "Epoch 25/100\n",
            "7/7 [==============================] - 2s 236ms/step - loss: 0.0010 - acc: 1.0000 - val_loss: 0.5120 - val_acc: 0.8009\n",
            "Epoch 26/100\n",
            "7/7 [==============================] - 2s 250ms/step - loss: 8.9436e-04 - acc: 1.0000 - val_loss: 0.5146 - val_acc: 0.7942\n",
            "Epoch 27/100\n",
            "7/7 [==============================] - 2s 252ms/step - loss: 7.4089e-04 - acc: 1.0000 - val_loss: 0.5233 - val_acc: 0.7847\n",
            "Epoch 28/100\n",
            "7/7 [==============================] - 2s 333ms/step - loss: 6.5293e-04 - acc: 1.0000 - val_loss: 0.5311 - val_acc: 0.7858\n",
            "Epoch 29/100\n",
            "7/7 [==============================] - 2s 251ms/step - loss: 5.6376e-04 - acc: 1.0000 - val_loss: 0.5378 - val_acc: 0.7830\n",
            "Epoch 30/100\n",
            "7/7 [==============================] - 2s 223ms/step - loss: 5.1249e-04 - acc: 1.0000 - val_loss: 0.5405 - val_acc: 0.7858\n",
            "Epoch 31/100\n",
            "7/7 [==============================] - 2s 231ms/step - loss: 4.4437e-04 - acc: 1.0000 - val_loss: 0.5437 - val_acc: 0.7853\n",
            "Epoch 32/100\n",
            "7/7 [==============================] - 2s 255ms/step - loss: 4.0064e-04 - acc: 1.0000 - val_loss: 0.5468 - val_acc: 0.7869\n",
            "Epoch 33/100\n",
            "7/7 [==============================] - 1s 226ms/step - loss: 3.7579e-04 - acc: 1.0000 - val_loss: 0.5538 - val_acc: 0.7936\n",
            "Epoch 34/100\n",
            "7/7 [==============================] - 1s 169ms/step - loss: 3.2049e-04 - acc: 1.0000 - val_loss: 0.5648 - val_acc: 0.7786\n",
            "Epoch 35/100\n",
            "7/7 [==============================] - 2s 251ms/step - loss: 2.8694e-04 - acc: 1.0000 - val_loss: 0.5771 - val_acc: 0.7747\n",
            "Epoch 36/100\n",
            "7/7 [==============================] - 2s 337ms/step - loss: 2.6216e-04 - acc: 1.0000 - val_loss: 0.5737 - val_acc: 0.7775\n",
            "Epoch 37/100\n",
            "7/7 [==============================] - 2s 220ms/step - loss: 2.3888e-04 - acc: 1.0000 - val_loss: 0.5691 - val_acc: 0.7814\n",
            "Epoch 38/100\n",
            "7/7 [==============================] - 2s 254ms/step - loss: 2.1496e-04 - acc: 1.0000 - val_loss: 0.5702 - val_acc: 0.7825\n",
            "Epoch 39/100\n",
            "7/7 [==============================] - 1s 182ms/step - loss: 1.9801e-04 - acc: 1.0000 - val_loss: 0.5697 - val_acc: 0.7842\n",
            "Epoch 40/100\n",
            "7/7 [==============================] - 2s 258ms/step - loss: 1.7923e-04 - acc: 1.0000 - val_loss: 0.5710 - val_acc: 0.7920\n",
            "Epoch 41/100\n",
            "7/7 [==============================] - 1s 203ms/step - loss: 1.6762e-04 - acc: 1.0000 - val_loss: 0.5750 - val_acc: 0.7909\n",
            "Epoch 42/100\n",
            "7/7 [==============================] - 1s 192ms/step - loss: 1.5248e-04 - acc: 1.0000 - val_loss: 0.5790 - val_acc: 0.7881\n",
            "Epoch 43/100\n",
            "7/7 [==============================] - 1s 243ms/step - loss: 1.4279e-04 - acc: 1.0000 - val_loss: 0.5823 - val_acc: 0.7886\n",
            "Epoch 44/100\n",
            "7/7 [==============================] - 1s 218ms/step - loss: 1.3471e-04 - acc: 1.0000 - val_loss: 0.5862 - val_acc: 0.7881\n",
            "Epoch 45/100\n",
            "7/7 [==============================] - 1s 218ms/step - loss: 1.2584e-04 - acc: 1.0000 - val_loss: 0.5879 - val_acc: 0.7881\n",
            "Epoch 46/100\n",
            "7/7 [==============================] - 1s 193ms/step - loss: 1.1933e-04 - acc: 1.0000 - val_loss: 0.5915 - val_acc: 0.7881\n",
            "Epoch 47/100\n",
            "7/7 [==============================] - 2s 257ms/step - loss: 1.1320e-04 - acc: 1.0000 - val_loss: 0.5940 - val_acc: 0.7875\n",
            "Epoch 48/100\n",
            "7/7 [==============================] - 1s 191ms/step - loss: 1.0635e-04 - acc: 1.0000 - val_loss: 0.5965 - val_acc: 0.7886\n",
            "Epoch 49/100\n",
            "7/7 [==============================] - 2s 221ms/step - loss: 1.0048e-04 - acc: 1.0000 - val_loss: 0.5990 - val_acc: 0.7875\n",
            "Epoch 50/100\n",
            "7/7 [==============================] - 2s 235ms/step - loss: 9.6009e-05 - acc: 1.0000 - val_loss: 0.6009 - val_acc: 0.7897\n",
            "Epoch 51/100\n",
            "7/7 [==============================] - 1s 137ms/step - loss: 9.0350e-05 - acc: 1.0000 - val_loss: 0.6042 - val_acc: 0.7869\n",
            "Epoch 52/100\n",
            "7/7 [==============================] - 2s 248ms/step - loss: 8.4197e-05 - acc: 1.0000 - val_loss: 0.6070 - val_acc: 0.7869\n",
            "Epoch 53/100\n",
            "7/7 [==============================] - 2s 216ms/step - loss: 8.0163e-05 - acc: 1.0000 - val_loss: 0.6098 - val_acc: 0.7858\n",
            "Epoch 54/100\n",
            "7/7 [==============================] - 1s 182ms/step - loss: 7.5729e-05 - acc: 1.0000 - val_loss: 0.6117 - val_acc: 0.7858\n",
            "Epoch 55/100\n",
            "7/7 [==============================] - 1s 173ms/step - loss: 7.1819e-05 - acc: 1.0000 - val_loss: 0.6145 - val_acc: 0.7853\n",
            "Epoch 56/100\n",
            "7/7 [==============================] - 1s 192ms/step - loss: 6.8017e-05 - acc: 1.0000 - val_loss: 0.6167 - val_acc: 0.7864\n",
            "Epoch 57/100\n",
            "7/7 [==============================] - 1s 147ms/step - loss: 6.3872e-05 - acc: 1.0000 - val_loss: 0.6187 - val_acc: 0.7864\n",
            "Epoch 58/100\n",
            "7/7 [==============================] - 1s 182ms/step - loss: 6.1545e-05 - acc: 1.0000 - val_loss: 0.6210 - val_acc: 0.7853\n",
            "Epoch 59/100\n",
            "7/7 [==============================] - 1s 198ms/step - loss: 5.8356e-05 - acc: 1.0000 - val_loss: 0.6226 - val_acc: 0.7853\n",
            "Epoch 60/100\n",
            "7/7 [==============================] - 1s 191ms/step - loss: 5.5949e-05 - acc: 1.0000 - val_loss: 0.6240 - val_acc: 0.7869\n",
            "Epoch 61/100\n",
            "7/7 [==============================] - 1s 167ms/step - loss: 5.3334e-05 - acc: 1.0000 - val_loss: 0.6268 - val_acc: 0.7847\n",
            "Epoch 62/100\n",
            "7/7 [==============================] - 2s 325ms/step - loss: 5.0714e-05 - acc: 1.0000 - val_loss: 0.6288 - val_acc: 0.7847\n",
            "Epoch 63/100\n",
            "7/7 [==============================] - 1s 149ms/step - loss: 4.8894e-05 - acc: 1.0000 - val_loss: 0.6302 - val_acc: 0.7881\n",
            "Epoch 64/100\n",
            "7/7 [==============================] - 1s 193ms/step - loss: 4.6139e-05 - acc: 1.0000 - val_loss: 0.6327 - val_acc: 0.7869\n",
            "Epoch 65/100\n",
            "7/7 [==============================] - 2s 230ms/step - loss: 4.4294e-05 - acc: 1.0000 - val_loss: 0.6352 - val_acc: 0.7864\n",
            "Epoch 66/100\n",
            "7/7 [==============================] - 1s 151ms/step - loss: 4.2806e-05 - acc: 1.0000 - val_loss: 0.6392 - val_acc: 0.7858\n",
            "Epoch 67/100\n",
            "7/7 [==============================] - 1s 218ms/step - loss: 4.0719e-05 - acc: 1.0000 - val_loss: 0.6403 - val_acc: 0.7864\n",
            "Epoch 68/100\n",
            "7/7 [==============================] - 1s 191ms/step - loss: 3.8971e-05 - acc: 1.0000 - val_loss: 0.6407 - val_acc: 0.7875\n",
            "Epoch 69/100\n",
            "7/7 [==============================] - 1s 148ms/step - loss: 3.6838e-05 - acc: 1.0000 - val_loss: 0.6411 - val_acc: 0.7864\n",
            "Epoch 70/100\n",
            "7/7 [==============================] - 1s 221ms/step - loss: 3.5746e-05 - acc: 1.0000 - val_loss: 0.6427 - val_acc: 0.7897\n",
            "Epoch 71/100\n",
            "7/7 [==============================] - 2s 292ms/step - loss: 3.3837e-05 - acc: 1.0000 - val_loss: 0.6447 - val_acc: 0.7925\n",
            "Epoch 72/100\n",
            "7/7 [==============================] - 1s 226ms/step - loss: 3.2449e-05 - acc: 1.0000 - val_loss: 0.6471 - val_acc: 0.7925\n",
            "Epoch 73/100\n",
            "7/7 [==============================] - 1s 131ms/step - loss: 3.1088e-05 - acc: 1.0000 - val_loss: 0.6494 - val_acc: 0.7897\n",
            "Epoch 74/100\n",
            "7/7 [==============================] - 2s 253ms/step - loss: 3.0270e-05 - acc: 1.0000 - val_loss: 0.6522 - val_acc: 0.7869\n",
            "Epoch 75/100\n",
            "7/7 [==============================] - 1s 200ms/step - loss: 2.8758e-05 - acc: 1.0000 - val_loss: 0.6535 - val_acc: 0.7869\n",
            "Epoch 76/100\n",
            "7/7 [==============================] - 2s 252ms/step - loss: 2.7680e-05 - acc: 1.0000 - val_loss: 0.6545 - val_acc: 0.7869\n",
            "Epoch 77/100\n",
            "7/7 [==============================] - 1s 122ms/step - loss: 2.6972e-05 - acc: 1.0000 - val_loss: 0.6562 - val_acc: 0.7909\n",
            "Epoch 78/100\n",
            "7/7 [==============================] - 1s 213ms/step - loss: 2.5795e-05 - acc: 1.0000 - val_loss: 0.6581 - val_acc: 0.7925\n",
            "Epoch 79/100\n",
            "7/7 [==============================] - 2s 239ms/step - loss: 2.4435e-05 - acc: 1.0000 - val_loss: 0.6606 - val_acc: 0.7869\n",
            "Epoch 80/100\n",
            "7/7 [==============================] - 2s 264ms/step - loss: 2.3521e-05 - acc: 1.0000 - val_loss: 0.6637 - val_acc: 0.7869\n",
            "Epoch 81/100\n",
            "7/7 [==============================] - 1s 219ms/step - loss: 2.3132e-05 - acc: 1.0000 - val_loss: 0.6660 - val_acc: 0.7847\n",
            "Epoch 82/100\n",
            "7/7 [==============================] - 2s 214ms/step - loss: 2.2262e-05 - acc: 1.0000 - val_loss: 0.6662 - val_acc: 0.7881\n",
            "Epoch 83/100\n",
            "7/7 [==============================] - 1s 210ms/step - loss: 2.1331e-05 - acc: 1.0000 - val_loss: 0.6664 - val_acc: 0.7864\n",
            "Epoch 84/100\n",
            "7/7 [==============================] - 1s 214ms/step - loss: 2.0410e-05 - acc: 1.0000 - val_loss: 0.6671 - val_acc: 0.7875\n",
            "Epoch 85/100\n",
            "7/7 [==============================] - 1s 180ms/step - loss: 1.9642e-05 - acc: 1.0000 - val_loss: 0.6679 - val_acc: 0.7875\n",
            "Epoch 86/100\n",
            "7/7 [==============================] - 1s 177ms/step - loss: 1.8845e-05 - acc: 1.0000 - val_loss: 0.6695 - val_acc: 0.7903\n",
            "Epoch 87/100\n",
            "7/7 [==============================] - 1s 169ms/step - loss: 1.8397e-05 - acc: 1.0000 - val_loss: 0.6722 - val_acc: 0.7903\n",
            "Epoch 88/100\n",
            "7/7 [==============================] - 1s 122ms/step - loss: 1.7911e-05 - acc: 1.0000 - val_loss: 0.6748 - val_acc: 0.7881\n",
            "Epoch 89/100\n",
            "7/7 [==============================] - 2s 282ms/step - loss: 1.7018e-05 - acc: 1.0000 - val_loss: 0.6772 - val_acc: 0.7886\n",
            "Epoch 90/100\n",
            "7/7 [==============================] - 1s 168ms/step - loss: 1.6619e-05 - acc: 1.0000 - val_loss: 0.6795 - val_acc: 0.7886\n",
            "Epoch 91/100\n",
            "7/7 [==============================] - 2s 251ms/step - loss: 1.5948e-05 - acc: 1.0000 - val_loss: 0.6816 - val_acc: 0.7875\n",
            "Epoch 92/100\n",
            "7/7 [==============================] - 1s 193ms/step - loss: 1.5547e-05 - acc: 1.0000 - val_loss: 0.6837 - val_acc: 0.7869\n",
            "Epoch 93/100\n",
            "7/7 [==============================] - 1s 184ms/step - loss: 1.5110e-05 - acc: 1.0000 - val_loss: 0.6854 - val_acc: 0.7864\n",
            "Epoch 94/100\n",
            "7/7 [==============================] - 1s 184ms/step - loss: 1.4662e-05 - acc: 1.0000 - val_loss: 0.6865 - val_acc: 0.7869\n",
            "Epoch 95/100\n",
            "7/7 [==============================] - 1s 162ms/step - loss: 1.4237e-05 - acc: 1.0000 - val_loss: 0.6876 - val_acc: 0.7869\n",
            "Epoch 96/100\n",
            "7/7 [==============================] - 1s 146ms/step - loss: 1.3877e-05 - acc: 1.0000 - val_loss: 0.6890 - val_acc: 0.7886\n",
            "Epoch 97/100\n",
            "7/7 [==============================] - 1s 174ms/step - loss: 1.3475e-05 - acc: 1.0000 - val_loss: 0.6909 - val_acc: 0.7864\n",
            "Epoch 98/100\n",
            "7/7 [==============================] - 1s 164ms/step - loss: 1.3106e-05 - acc: 1.0000 - val_loss: 0.6924 - val_acc: 0.7869\n",
            "Epoch 99/100\n",
            "7/7 [==============================] - 1s 222ms/step - loss: 1.2746e-05 - acc: 1.0000 - val_loss: 0.6934 - val_acc: 0.7864\n",
            "Epoch 100/100\n",
            "7/7 [==============================] - 2s 242ms/step - loss: 1.2358e-05 - acc: 1.0000 - val_loss: 0.6946 - val_acc: 0.7869\n"
          ]
        }
      ]
    },
    {
      "cell_type": "markdown",
      "metadata": {
        "id": "wFgJVqEjMsaR"
      },
      "source": [
        "Next we train the model with pretrained weights."
      ]
    },
    {
      "cell_type": "code",
      "metadata": {
        "id": "Ni_xRrAmdN-X",
        "outputId": "367fa017-0f60-46c6-8529-94922ef74edd",
        "colab": {
          "base_uri": "https://localhost:8080/"
        }
      },
      "source": [
        "train(True)"
      ],
      "execution_count": 21,
      "outputs": [
        {
          "output_type": "stream",
          "name": "stdout",
          "text": [
            "Training model.\n",
            "Epoch 1/100\n",
            "7/7 [==============================] - 2s 90ms/step - loss: 0.7062 - acc: 0.5500 - val_loss: 0.6877 - val_acc: 0.5449\n",
            "Epoch 2/100\n",
            "7/7 [==============================] - 0s 52ms/step - loss: 0.6685 - acc: 0.5750 - val_loss: 0.6799 - val_acc: 0.5555\n",
            "Epoch 3/100\n",
            "7/7 [==============================] - 0s 49ms/step - loss: 0.5962 - acc: 0.7000 - val_loss: 0.6743 - val_acc: 0.6152\n",
            "Epoch 4/100\n",
            "7/7 [==============================] - 0s 49ms/step - loss: 0.5510 - acc: 0.7850 - val_loss: 0.6755 - val_acc: 0.5416\n",
            "Epoch 5/100\n",
            "7/7 [==============================] - 0s 61ms/step - loss: 0.4933 - acc: 0.8200 - val_loss: 0.6693 - val_acc: 0.5605\n",
            "Epoch 6/100\n",
            "7/7 [==============================] - 0s 47ms/step - loss: 0.4054 - acc: 0.8900 - val_loss: 0.6046 - val_acc: 0.7022\n",
            "Epoch 7/100\n",
            "7/7 [==============================] - 0s 60ms/step - loss: 0.3067 - acc: 0.9450 - val_loss: 0.5558 - val_acc: 0.7172\n",
            "Epoch 8/100\n",
            "7/7 [==============================] - 0s 46ms/step - loss: 0.2688 - acc: 0.9400 - val_loss: 0.5027 - val_acc: 0.7635\n",
            "Epoch 9/100\n",
            "7/7 [==============================] - 0s 46ms/step - loss: 0.2532 - acc: 0.9050 - val_loss: 0.6863 - val_acc: 0.5990\n",
            "Epoch 10/100\n",
            "7/7 [==============================] - 0s 46ms/step - loss: 0.1715 - acc: 0.9700 - val_loss: 0.4556 - val_acc: 0.7953\n",
            "Epoch 11/100\n",
            "7/7 [==============================] - 0s 61ms/step - loss: 0.1197 - acc: 0.9950 - val_loss: 0.4739 - val_acc: 0.7691\n",
            "Epoch 12/100\n",
            "7/7 [==============================] - 0s 61ms/step - loss: 0.0856 - acc: 0.9950 - val_loss: 0.4264 - val_acc: 0.7791\n",
            "Epoch 13/100\n",
            "7/7 [==============================] - 0s 46ms/step - loss: 0.0636 - acc: 1.0000 - val_loss: 0.4318 - val_acc: 0.7953\n",
            "Epoch 14/100\n",
            "7/7 [==============================] - 0s 49ms/step - loss: 0.0467 - acc: 1.0000 - val_loss: 0.4076 - val_acc: 0.7936\n",
            "Epoch 15/100\n",
            "7/7 [==============================] - 0s 48ms/step - loss: 0.0360 - acc: 1.0000 - val_loss: 0.3772 - val_acc: 0.8344\n",
            "Epoch 16/100\n",
            "7/7 [==============================] - 0s 61ms/step - loss: 0.0282 - acc: 1.0000 - val_loss: 0.3572 - val_acc: 0.8310\n",
            "Epoch 17/100\n",
            "7/7 [==============================] - 0s 61ms/step - loss: 0.0242 - acc: 1.0000 - val_loss: 0.3500 - val_acc: 0.8371\n",
            "Epoch 18/100\n",
            "7/7 [==============================] - 0s 61ms/step - loss: 0.0197 - acc: 1.0000 - val_loss: 0.3530 - val_acc: 0.8466\n",
            "Epoch 19/100\n",
            "7/7 [==============================] - 0s 61ms/step - loss: 0.0165 - acc: 1.0000 - val_loss: 0.3619 - val_acc: 0.8310\n",
            "Epoch 20/100\n",
            "7/7 [==============================] - 0s 66ms/step - loss: 0.0140 - acc: 1.0000 - val_loss: 0.3775 - val_acc: 0.8344\n",
            "Epoch 21/100\n",
            "7/7 [==============================] - 0s 62ms/step - loss: 0.0121 - acc: 1.0000 - val_loss: 0.3664 - val_acc: 0.8305\n",
            "Epoch 22/100\n",
            "7/7 [==============================] - 0s 66ms/step - loss: 0.0106 - acc: 1.0000 - val_loss: 0.3530 - val_acc: 0.8461\n",
            "Epoch 23/100\n",
            "7/7 [==============================] - 0s 68ms/step - loss: 0.0093 - acc: 1.0000 - val_loss: 0.3630 - val_acc: 0.8461\n",
            "Epoch 24/100\n",
            "7/7 [==============================] - 0s 64ms/step - loss: 0.0082 - acc: 1.0000 - val_loss: 0.3625 - val_acc: 0.8494\n",
            "Epoch 25/100\n",
            "7/7 [==============================] - 0s 66ms/step - loss: 0.0071 - acc: 1.0000 - val_loss: 0.3673 - val_acc: 0.8494\n",
            "Epoch 26/100\n",
            "7/7 [==============================] - 0s 66ms/step - loss: 0.0061 - acc: 1.0000 - val_loss: 0.3720 - val_acc: 0.8516\n",
            "Epoch 27/100\n",
            "7/7 [==============================] - 0s 67ms/step - loss: 0.0053 - acc: 1.0000 - val_loss: 0.3768 - val_acc: 0.8450\n",
            "Epoch 28/100\n",
            "7/7 [==============================] - 0s 65ms/step - loss: 0.0043 - acc: 1.0000 - val_loss: 0.3798 - val_acc: 0.8483\n",
            "Epoch 29/100\n",
            "7/7 [==============================] - 0s 53ms/step - loss: 0.0038 - acc: 1.0000 - val_loss: 0.3899 - val_acc: 0.8494\n",
            "Epoch 30/100\n",
            "7/7 [==============================] - 0s 61ms/step - loss: 0.0030 - acc: 1.0000 - val_loss: 0.3978 - val_acc: 0.8500\n",
            "Epoch 31/100\n",
            "7/7 [==============================] - 0s 62ms/step - loss: 0.0026 - acc: 1.0000 - val_loss: 0.4110 - val_acc: 0.8416\n",
            "Epoch 32/100\n",
            "7/7 [==============================] - 0s 47ms/step - loss: 0.0022 - acc: 1.0000 - val_loss: 0.4195 - val_acc: 0.8483\n",
            "Epoch 33/100\n",
            "7/7 [==============================] - 0s 47ms/step - loss: 0.0018 - acc: 1.0000 - val_loss: 0.4240 - val_acc: 0.8516\n",
            "Epoch 34/100\n",
            "7/7 [==============================] - 0s 48ms/step - loss: 0.0015 - acc: 1.0000 - val_loss: 0.4385 - val_acc: 0.8528\n",
            "Epoch 35/100\n",
            "7/7 [==============================] - 0s 61ms/step - loss: 0.0012 - acc: 1.0000 - val_loss: 0.4450 - val_acc: 0.8489\n",
            "Epoch 36/100\n",
            "7/7 [==============================] - 0s 47ms/step - loss: 0.0010 - acc: 1.0000 - val_loss: 0.4464 - val_acc: 0.8477\n",
            "Epoch 37/100\n",
            "7/7 [==============================] - 0s 62ms/step - loss: 8.4302e-04 - acc: 1.0000 - val_loss: 0.4448 - val_acc: 0.8466\n",
            "Epoch 38/100\n",
            "7/7 [==============================] - 0s 46ms/step - loss: 7.4194e-04 - acc: 1.0000 - val_loss: 0.4476 - val_acc: 0.8461\n",
            "Epoch 39/100\n",
            "7/7 [==============================] - 0s 47ms/step - loss: 6.5310e-04 - acc: 1.0000 - val_loss: 0.4514 - val_acc: 0.8494\n",
            "Epoch 40/100\n",
            "7/7 [==============================] - 0s 61ms/step - loss: 5.7233e-04 - acc: 1.0000 - val_loss: 0.4564 - val_acc: 0.8483\n",
            "Epoch 41/100\n",
            "7/7 [==============================] - 0s 63ms/step - loss: 4.9981e-04 - acc: 1.0000 - val_loss: 0.4624 - val_acc: 0.8500\n",
            "Epoch 42/100\n",
            "7/7 [==============================] - 0s 61ms/step - loss: 4.5333e-04 - acc: 1.0000 - val_loss: 0.4671 - val_acc: 0.8500\n",
            "Epoch 43/100\n",
            "7/7 [==============================] - 0s 61ms/step - loss: 3.9028e-04 - acc: 1.0000 - val_loss: 0.4698 - val_acc: 0.8483\n",
            "Epoch 44/100\n",
            "7/7 [==============================] - 0s 47ms/step - loss: 3.3698e-04 - acc: 1.0000 - val_loss: 0.4768 - val_acc: 0.8494\n",
            "Epoch 45/100\n",
            "7/7 [==============================] - 0s 48ms/step - loss: 2.9924e-04 - acc: 1.0000 - val_loss: 0.4831 - val_acc: 0.8489\n",
            "Epoch 46/100\n",
            "7/7 [==============================] - 0s 47ms/step - loss: 2.7103e-04 - acc: 1.0000 - val_loss: 0.4885 - val_acc: 0.8494\n",
            "Epoch 47/100\n",
            "7/7 [==============================] - 0s 46ms/step - loss: 2.4979e-04 - acc: 1.0000 - val_loss: 0.4919 - val_acc: 0.8494\n",
            "Epoch 48/100\n",
            "7/7 [==============================] - 0s 60ms/step - loss: 2.2489e-04 - acc: 1.0000 - val_loss: 0.4964 - val_acc: 0.8489\n",
            "Epoch 49/100\n",
            "7/7 [==============================] - 0s 48ms/step - loss: 2.0972e-04 - acc: 1.0000 - val_loss: 0.4977 - val_acc: 0.8505\n",
            "Epoch 50/100\n",
            "7/7 [==============================] - 0s 61ms/step - loss: 1.9476e-04 - acc: 1.0000 - val_loss: 0.5001 - val_acc: 0.8500\n",
            "Epoch 51/100\n",
            "7/7 [==============================] - 0s 61ms/step - loss: 1.7950e-04 - acc: 1.0000 - val_loss: 0.5044 - val_acc: 0.8494\n",
            "Epoch 52/100\n",
            "7/7 [==============================] - 0s 62ms/step - loss: 1.6959e-04 - acc: 1.0000 - val_loss: 0.5076 - val_acc: 0.8505\n",
            "Epoch 53/100\n",
            "7/7 [==============================] - 0s 46ms/step - loss: 1.5626e-04 - acc: 1.0000 - val_loss: 0.5112 - val_acc: 0.8494\n",
            "Epoch 54/100\n",
            "7/7 [==============================] - 0s 62ms/step - loss: 1.4868e-04 - acc: 1.0000 - val_loss: 0.5138 - val_acc: 0.8500\n",
            "Epoch 55/100\n",
            "7/7 [==============================] - 0s 61ms/step - loss: 1.3857e-04 - acc: 1.0000 - val_loss: 0.5167 - val_acc: 0.8505\n",
            "Epoch 56/100\n",
            "7/7 [==============================] - 0s 61ms/step - loss: 1.2979e-04 - acc: 1.0000 - val_loss: 0.5172 - val_acc: 0.8500\n",
            "Epoch 57/100\n",
            "7/7 [==============================] - 0s 61ms/step - loss: 1.2358e-04 - acc: 1.0000 - val_loss: 0.5174 - val_acc: 0.8494\n",
            "Epoch 58/100\n",
            "7/7 [==============================] - 0s 61ms/step - loss: 1.1553e-04 - acc: 1.0000 - val_loss: 0.5202 - val_acc: 0.8500\n",
            "Epoch 59/100\n",
            "7/7 [==============================] - 0s 64ms/step - loss: 1.0868e-04 - acc: 1.0000 - val_loss: 0.5226 - val_acc: 0.8505\n",
            "Epoch 60/100\n",
            "7/7 [==============================] - 0s 65ms/step - loss: 1.0296e-04 - acc: 1.0000 - val_loss: 0.5258 - val_acc: 0.8500\n",
            "Epoch 61/100\n",
            "7/7 [==============================] - 0s 60ms/step - loss: 9.6323e-05 - acc: 1.0000 - val_loss: 0.5275 - val_acc: 0.8500\n",
            "Epoch 62/100\n",
            "7/7 [==============================] - 0s 65ms/step - loss: 9.1870e-05 - acc: 1.0000 - val_loss: 0.5304 - val_acc: 0.8489\n",
            "Epoch 63/100\n",
            "7/7 [==============================] - 0s 65ms/step - loss: 8.8423e-05 - acc: 1.0000 - val_loss: 0.5324 - val_acc: 0.8489\n",
            "Epoch 64/100\n",
            "7/7 [==============================] - 0s 47ms/step - loss: 8.2762e-05 - acc: 1.0000 - val_loss: 0.5353 - val_acc: 0.8494\n",
            "Epoch 65/100\n",
            "7/7 [==============================] - 0s 63ms/step - loss: 8.0087e-05 - acc: 1.0000 - val_loss: 0.5395 - val_acc: 0.8500\n",
            "Epoch 66/100\n",
            "7/7 [==============================] - 0s 63ms/step - loss: 7.6366e-05 - acc: 1.0000 - val_loss: 0.5420 - val_acc: 0.8489\n",
            "Epoch 67/100\n",
            "7/7 [==============================] - 0s 66ms/step - loss: 7.1873e-05 - acc: 1.0000 - val_loss: 0.5432 - val_acc: 0.8483\n",
            "Epoch 68/100\n",
            "7/7 [==============================] - 0s 58ms/step - loss: 6.9262e-05 - acc: 1.0000 - val_loss: 0.5460 - val_acc: 0.8483\n",
            "Epoch 69/100\n",
            "7/7 [==============================] - 0s 60ms/step - loss: 6.6178e-05 - acc: 1.0000 - val_loss: 0.5474 - val_acc: 0.8483\n",
            "Epoch 70/100\n",
            "7/7 [==============================] - 0s 65ms/step - loss: 6.4048e-05 - acc: 1.0000 - val_loss: 0.5534 - val_acc: 0.8489\n",
            "Epoch 71/100\n",
            "7/7 [==============================] - 0s 69ms/step - loss: 5.9724e-05 - acc: 1.0000 - val_loss: 0.5564 - val_acc: 0.8483\n",
            "Epoch 72/100\n",
            "7/7 [==============================] - 0s 66ms/step - loss: 5.6399e-05 - acc: 1.0000 - val_loss: 0.5570 - val_acc: 0.8511\n",
            "Epoch 73/100\n",
            "7/7 [==============================] - 0s 64ms/step - loss: 5.4290e-05 - acc: 1.0000 - val_loss: 0.5557 - val_acc: 0.8500\n",
            "Epoch 74/100\n",
            "7/7 [==============================] - 0s 57ms/step - loss: 5.2324e-05 - acc: 1.0000 - val_loss: 0.5579 - val_acc: 0.8466\n",
            "Epoch 75/100\n",
            "7/7 [==============================] - 0s 67ms/step - loss: 5.0173e-05 - acc: 1.0000 - val_loss: 0.5598 - val_acc: 0.8505\n",
            "Epoch 76/100\n",
            "7/7 [==============================] - 0s 68ms/step - loss: 4.8112e-05 - acc: 1.0000 - val_loss: 0.5614 - val_acc: 0.8489\n",
            "Epoch 77/100\n",
            "7/7 [==============================] - 0s 66ms/step - loss: 4.6043e-05 - acc: 1.0000 - val_loss: 0.5629 - val_acc: 0.8494\n",
            "Epoch 78/100\n",
            "7/7 [==============================] - 0s 62ms/step - loss: 4.4509e-05 - acc: 1.0000 - val_loss: 0.5626 - val_acc: 0.8505\n",
            "Epoch 79/100\n",
            "7/7 [==============================] - 0s 62ms/step - loss: 4.2757e-05 - acc: 1.0000 - val_loss: 0.5646 - val_acc: 0.8494\n",
            "Epoch 80/100\n",
            "7/7 [==============================] - 0s 61ms/step - loss: 4.1110e-05 - acc: 1.0000 - val_loss: 0.5666 - val_acc: 0.8494\n",
            "Epoch 81/100\n",
            "7/7 [==============================] - 0s 69ms/step - loss: 3.9808e-05 - acc: 1.0000 - val_loss: 0.5700 - val_acc: 0.8477\n",
            "Epoch 82/100\n",
            "7/7 [==============================] - 0s 66ms/step - loss: 3.8312e-05 - acc: 1.0000 - val_loss: 0.5721 - val_acc: 0.8483\n",
            "Epoch 83/100\n",
            "7/7 [==============================] - 0s 64ms/step - loss: 3.7014e-05 - acc: 1.0000 - val_loss: 0.5743 - val_acc: 0.8483\n",
            "Epoch 84/100\n",
            "7/7 [==============================] - 0s 61ms/step - loss: 3.5465e-05 - acc: 1.0000 - val_loss: 0.5775 - val_acc: 0.8489\n",
            "Epoch 85/100\n",
            "7/7 [==============================] - 0s 66ms/step - loss: 3.4502e-05 - acc: 1.0000 - val_loss: 0.5809 - val_acc: 0.8494\n",
            "Epoch 86/100\n",
            "7/7 [==============================] - 0s 65ms/step - loss: 3.3040e-05 - acc: 1.0000 - val_loss: 0.5818 - val_acc: 0.8494\n",
            "Epoch 87/100\n",
            "7/7 [==============================] - 0s 67ms/step - loss: 3.1910e-05 - acc: 1.0000 - val_loss: 0.5823 - val_acc: 0.8489\n",
            "Epoch 88/100\n",
            "7/7 [==============================] - 0s 63ms/step - loss: 3.1134e-05 - acc: 1.0000 - val_loss: 0.5824 - val_acc: 0.8494\n",
            "Epoch 89/100\n",
            "7/7 [==============================] - 1s 119ms/step - loss: 2.9702e-05 - acc: 1.0000 - val_loss: 0.5824 - val_acc: 0.8483\n",
            "Epoch 90/100\n",
            "7/7 [==============================] - 0s 72ms/step - loss: 2.8661e-05 - acc: 1.0000 - val_loss: 0.5848 - val_acc: 0.8489\n",
            "Epoch 91/100\n",
            "7/7 [==============================] - 0s 67ms/step - loss: 2.8266e-05 - acc: 1.0000 - val_loss: 0.5894 - val_acc: 0.8494\n",
            "Epoch 92/100\n",
            "7/7 [==============================] - 0s 68ms/step - loss: 2.6756e-05 - acc: 1.0000 - val_loss: 0.5909 - val_acc: 0.8489\n",
            "Epoch 93/100\n",
            "7/7 [==============================] - 0s 71ms/step - loss: 2.5872e-05 - acc: 1.0000 - val_loss: 0.5926 - val_acc: 0.8483\n",
            "Epoch 94/100\n",
            "7/7 [==============================] - 0s 70ms/step - loss: 2.5193e-05 - acc: 1.0000 - val_loss: 0.5934 - val_acc: 0.8483\n",
            "Epoch 95/100\n",
            "7/7 [==============================] - 0s 64ms/step - loss: 2.4345e-05 - acc: 1.0000 - val_loss: 0.5945 - val_acc: 0.8477\n",
            "Epoch 96/100\n",
            "7/7 [==============================] - 0s 67ms/step - loss: 2.3839e-05 - acc: 1.0000 - val_loss: 0.5953 - val_acc: 0.8489\n",
            "Epoch 97/100\n",
            "7/7 [==============================] - 0s 66ms/step - loss: 2.3001e-05 - acc: 1.0000 - val_loss: 0.5965 - val_acc: 0.8483\n",
            "Epoch 98/100\n",
            "7/7 [==============================] - 0s 68ms/step - loss: 2.2475e-05 - acc: 1.0000 - val_loss: 0.5974 - val_acc: 0.8489\n",
            "Epoch 99/100\n",
            "7/7 [==============================] - 0s 65ms/step - loss: 2.1891e-05 - acc: 1.0000 - val_loss: 0.5991 - val_acc: 0.8489\n",
            "Epoch 100/100\n",
            "7/7 [==============================] - 0s 65ms/step - loss: 2.1140e-05 - acc: 1.0000 - val_loss: 0.6004 - val_acc: 0.8489\n"
          ]
        }
      ]
    }
  ]
}